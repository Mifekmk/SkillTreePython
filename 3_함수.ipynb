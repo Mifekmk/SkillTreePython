{
  "nbformat": 4,
  "nbformat_minor": 0,
  "metadata": {
    "colab": {
      "name": "3.함수.ipynb",
      "provenance": [],
      "collapsed_sections": [],
      "include_colab_link": true
    },
    "kernelspec": {
      "name": "python3",
      "display_name": "Python 3"
    },
    "language_info": {
      "name": "python"
    }
  },
  "cells": [
    {
      "cell_type": "markdown",
      "metadata": {
        "id": "view-in-github",
        "colab_type": "text"
      },
      "source": [
        "<a href=\"https://colab.research.google.com/github/Mifekmk/SkillTreePython/blob/main/3_%ED%95%A8%EC%88%98.ipynb\" target=\"_parent\"><img src=\"https://colab.research.google.com/assets/colab-badge.svg\" alt=\"Open In Colab\"/></a>"
      ]
    },
    {
      "cell_type": "markdown",
      "source": [
        "# 3. 함수\n",
        "---\n",
        "* 날짜: 2022-03-31\n",
        "* 이름: 김민규"
      ],
      "metadata": {
        "id": "kB5IciXEm6o4"
      }
    },
    {
      "cell_type": "markdown",
      "source": [
        "## 개념정리\n",
        "---\n"
      ],
      "metadata": {
        "id": "4iN8NFzHRJ2D"
      }
    },
    {
      "cell_type": "markdown",
      "source": [
        "### **(1) 기본 사용**\n",
        "\n",
        "\n",
        "함수는 아래와 같이 정의 할 수 있습니다. 함수의 이름을 선언한 후 이름 아래에 코드를 작성합니다. 아래 코드에서 함수의 이름은`plus`이고 이 함수는 `plus`를 출력하는 함수입니다. \n",
        "\n",
        "\n",
        "```\n",
        "def plus():\n",
        "  print('plus')\n",
        "```\n",
        "\n",
        "코드를 작성하고 셸을 실행하세요. 아무런 일도 일어나지 않습니다. 우리는 함수를 `정의`만 했을 뿐 아직 실행하지 않았습니다.\n"
      ],
      "metadata": {
        "id": "MAM8MDnfw68b"
      }
    },
    {
      "cell_type": "code",
      "source": [
        "def plus():     # 원래 있던 내장함수 이름으로 사용하게 되면\n",
        "    print('plus') # 내장함수 고유의 기능이 사라집니다.\n",
        "    print('minus') # -> 현재는 함수를 만든 상태입니다."
      ],
      "metadata": {
        "id": "mtAw3UNponv3"
      },
      "execution_count": null,
      "outputs": []
    },
    {
      "cell_type": "markdown",
      "source": [
        "### **(2) 실행**\n",
        "\n",
        "\n",
        "\n",
        "함수를 실행하기 위해서는 함수의 이름과 괄호를 써줍니다.\n",
        "\n",
        "```\n",
        "plus()\n",
        "```\n",
        "\n"
      ],
      "metadata": {
        "id": "gaTRb9qYopc_"
      }
    },
    {
      "cell_type": "code",
      "source": [
        "plus()"
      ],
      "metadata": {
        "id": "aN-Mr7VMoqeN",
        "colab": {
          "base_uri": "https://localhost:8080/"
        },
        "outputId": "0bd3a4a4-5d48-40dd-871a-d75c0dff5be4"
      },
      "execution_count": null,
      "outputs": [
        {
          "output_type": "stream",
          "name": "stdout",
          "text": [
            "plus\n",
            "minus\n"
          ]
        }
      ]
    },
    {
      "cell_type": "markdown",
      "source": [
        "### **(3) 매개변수와 인수**\n",
        "\n",
        "매개변수와 인수는 함수의 인풋이라고 볼 수 있습니다. 파이썬 함수에는 인풋과 아웃풋이 존재하지 않을 수도 있고, 하나 또는 그 이상도 가능합니다. \n"
      ],
      "metadata": {
        "id": "D2DPCKvuopYy"
      }
    },
    {
      "cell_type": "markdown",
      "source": [
        "#### **매개변수 (parameter)**\n",
        "\n",
        "매개변수(parameter)는 함수를 정의할 때 입력하는 파라미터 입니다. 함수 정의시 괄호 안에 아래와 같이 작성합니다. 아래 함수에서 매개변수는 `input`과 `input2`에 해당합니다.\n",
        "\n",
        "```\n",
        "def plus(input1, input2):\n",
        "  print('plus', input1, input2)\n",
        "```\n"
      ],
      "metadata": {
        "id": "sZpxCwOWqT7t"
      }
    },
    {
      "cell_type": "code",
      "source": [
        "# def plus(input1, input2):   # input1, input2 가 파라미터 입니다.\n",
        "#     print(f'{input} + {input2}')\n",
        "\n",
        "def plus(input1, input2):\n",
        "  print('plus', input1, input2)"
      ],
      "metadata": {
        "id": "sUDgnWmbqWX_"
      },
      "execution_count": null,
      "outputs": []
    },
    {
      "cell_type": "markdown",
      "source": [
        "#### **인수 (argument)**\n",
        "\n",
        "이제 이 함수는 매개변수 두개, 즉 인풋으로 두개의 값을  필요로 합니다. 인수(argument)란 이 함수를 실행할 때 필요로 하는 파라미터 입니다. 아래 코드에서는 함수를 실행하고 있고 이때 인수로 1과 2가 들어갑니다.\n",
        "\n",
        "```\n",
        "plus(1, 2)\n",
        "```"
      ],
      "metadata": {
        "id": "cQfhMFjbqWeT"
      }
    },
    {
      "cell_type": "code",
      "source": [
        "type(plus(1, 2))    # Nonetype"
      ],
      "metadata": {
        "id": "FdfMHSbvqZdK",
        "colab": {
          "base_uri": "https://localhost:8080/"
        },
        "outputId": "066f8aaa-b288-4732-caad-6695aea02acb"
      },
      "execution_count": null,
      "outputs": [
        {
          "output_type": "stream",
          "name": "stdout",
          "text": [
            "plus 1 2\n"
          ]
        },
        {
          "output_type": "execute_result",
          "data": {
            "text/plain": [
              "NoneType"
            ]
          },
          "metadata": {},
          "execution_count": 14
        }
      ]
    },
    {
      "cell_type": "markdown",
      "source": [
        "### **(4) 함수의 반환**\n",
        "\n",
        "함수에는 인풋과 마찬가지로 아웃풋도 존재합니다. 만약 함수를 통해 반환하는 값을 원한다면 `return` 을 이용합니다.\n",
        "\n",
        "```\n",
        "def plus(input1, input2):\n",
        "  plus_value = input1+input2\n",
        "  return plus_value\n",
        "```\n"
      ],
      "metadata": {
        "id": "XJc026HEqbNX"
      }
    },
    {
      "cell_type": "code",
      "source": [
        "def plus(input1, input2):\n",
        "    plus_value = input1 + input2\n",
        "    return plus_value"
      ],
      "metadata": {
        "id": "Wti0TzI2qaGf"
      },
      "execution_count": null,
      "outputs": []
    },
    {
      "cell_type": "markdown",
      "source": [
        "이제 이 함수는 `plus_value` 을 반환합니다. 이 함수를 사용한 후 `plus_value`라는 값을 바인딩하려면 아래와 같이 적어줍니다.\n",
        "\n",
        "```\n",
        "a = plus(5, 5)\n",
        "print(a)\n",
        "```"
      ],
      "metadata": {
        "id": "s1II1HFdqf5X"
      }
    },
    {
      "cell_type": "code",
      "source": [
        "a = plus(5, 5) # -> 숫자자료형 10을 의미합니다.\n",
        "print(a)\n",
        "type(plus(5,5)) # int"
      ],
      "metadata": {
        "id": "c9HL3cwPqe0X",
        "colab": {
          "base_uri": "https://localhost:8080/"
        },
        "outputId": "7121107b-5590-4741-e80c-aff0c5c4e709"
      },
      "execution_count": null,
      "outputs": [
        {
          "output_type": "stream",
          "name": "stdout",
          "text": [
            "10\n"
          ]
        },
        {
          "output_type": "execute_result",
          "data": {
            "text/plain": [
              "int"
            ]
          },
          "metadata": {},
          "execution_count": 18
        }
      ]
    },
    {
      "cell_type": "code",
      "source": [
        "plus(1,5)+10"
      ],
      "metadata": {
        "colab": {
          "base_uri": "https://localhost:8080/"
        },
        "id": "rNIuyu1qaE_o",
        "outputId": "b55c2542-dea3-4b61-99b9-3a7959462418"
      },
      "execution_count": null,
      "outputs": [
        {
          "output_type": "execute_result",
          "data": {
            "text/plain": [
              "16"
            ]
          },
          "metadata": {},
          "execution_count": 20
        }
      ]
    },
    {
      "cell_type": "markdown",
      "source": [
        "#### **여러개의 반환**\n",
        "\n",
        "여러개의 반환 값을 원한다면 아래와 같이 작성합니다.\n",
        "\n",
        "```\n",
        "def plus_minus(input1, input2):\n",
        "  plus_value = input1+input2\n",
        "  minus_value = input1-input2\n",
        "  return plus_value, minus_value\n",
        "```"
      ],
      "metadata": {
        "id": "rVGVIl5vqiZd"
      }
    },
    {
      "cell_type": "code",
      "source": [
        "def plus_minus(input1, input2):\n",
        "    plus_value = input1+input2\n",
        "    minus_value = input1-input2\n",
        "    return plus_value, minus_value\n",
        "\n",
        "# def plus_minus(input1, input2):\n",
        "#     plus_value = input1+input2\n",
        "#     minus_value = input1-input2\n",
        "#     print(plus_value, minus_value)  # NoneType 으로 출력됩니다."
      ],
      "metadata": {
        "id": "QTeSZkH-qgsu"
      },
      "execution_count": null,
      "outputs": []
    },
    {
      "cell_type": "markdown",
      "source": [
        "함수를 사용할 때는 아래와 같이 써줍니다.\n",
        "\n",
        "```\n",
        "a = plus_minus(5, 5)\n",
        "print(a)\n",
        "```"
      ],
      "metadata": {
        "id": "yqITb4FcqmEf"
      }
    },
    {
      "cell_type": "code",
      "source": [
        "a = plus_minus(5, 5)\n",
        "print(a)    # tuple\n",
        "type(a)"
      ],
      "metadata": {
        "id": "9rJEadzxqlRw",
        "colab": {
          "base_uri": "https://localhost:8080/"
        },
        "outputId": "e6781cf1-2aa3-4b67-b9d2-b46a142d3246"
      },
      "execution_count": null,
      "outputs": [
        {
          "output_type": "stream",
          "name": "stdout",
          "text": [
            "(10, 0)\n"
          ]
        },
        {
          "output_type": "execute_result",
          "data": {
            "text/plain": [
              "tuple"
            ]
          },
          "metadata": {},
          "execution_count": 29
        }
      ]
    },
    {
      "cell_type": "markdown",
      "source": [
        "이 때 `a` 의 값이 튜플 형식으로 지정되어 있는 것을 볼 수 있습니다. 반환값을 여러개의 변수로 바인딩 하고 싶으면 아래와 같이 작성해줍니다. \n",
        "\n",
        "```\n",
        "a_pi, a_mi = plus_minus(5,5)\n",
        "print(a_pi)\n",
        "print(a_mi)\n",
        "```\n",
        "\n"
      ],
      "metadata": {
        "id": "cbLQp5KWqpmQ"
      }
    },
    {
      "cell_type": "code",
      "source": [
        "a_pi, a_mi = plus_minus(5,5)\n",
        "print(a_pi)\n",
        "print(a_mi)"
      ],
      "metadata": {
        "id": "bVBWRHM8qn1P",
        "colab": {
          "base_uri": "https://localhost:8080/"
        },
        "outputId": "d5efc112-4aa2-43a3-d89c-e3c07466d81d"
      },
      "execution_count": null,
      "outputs": [
        {
          "output_type": "stream",
          "name": "stdout",
          "text": [
            "10\n",
            "0\n"
          ]
        }
      ]
    },
    {
      "cell_type": "markdown",
      "source": [
        "### **(5) 여러가지 매개변수**\n"
      ],
      "metadata": {
        "id": "I2nXtSe1qvFh"
      }
    },
    {
      "cell_type": "markdown",
      "source": [
        "#### **디폴트 값이 있는 매개변수**\n",
        "\n",
        "특정 인수의 디폴드 값을 아래와 같이 지정 할 수 있습니다.\n",
        "\n",
        "```\n",
        "def plus(input1, input2, bias=0):\n",
        "  print(input1+input2+bias)\n",
        "```"
      ],
      "metadata": {
        "id": "2Nq7NkdLqvMF"
      }
    },
    {
      "cell_type": "code",
      "source": [
        "def plus(input1, input2, bias=0):\n",
        "    return input1+input2+bias"
      ],
      "metadata": {
        "id": "A9V9N606qreB"
      },
      "execution_count": null,
      "outputs": []
    },
    {
      "cell_type": "markdown",
      "source": [
        "이 때 디폴트 값이 있는 매개변수는 항상 마지막에 작성해야 하며 그렇지 않으면 에러 메시지가 출력됩니다.\n",
        "\n",
        "\n",
        "```\n",
        "def plus(input1, bias=0, input2):\n",
        "  print(input1+input2+bias)\n",
        "```"
      ],
      "metadata": {
        "id": "hhMDtFogq2PE"
      }
    },
    {
      "cell_type": "code",
      "source": [
        "def plus(input1, bias=0, input2):\n",
        "  print(input1+input2+bias)"
      ],
      "metadata": {
        "id": "rZCE2F15q1In",
        "colab": {
          "base_uri": "https://localhost:8080/",
          "height": 137
        },
        "outputId": "a4194ad9-2561-42f4-df50-098725d5dc86"
      },
      "execution_count": null,
      "outputs": [
        {
          "output_type": "error",
          "ename": "SyntaxError",
          "evalue": "ignored",
          "traceback": [
            "\u001b[0;36m  File \u001b[0;32m\"<ipython-input-32-950ef9985c72>\"\u001b[0;36m, line \u001b[0;32m1\u001b[0m\n\u001b[0;31m    def plus(input1, bias=0, input2):\u001b[0m\n\u001b[0m            ^\u001b[0m\n\u001b[0;31mSyntaxError\u001b[0m\u001b[0;31m:\u001b[0m non-default argument follows default argument\n"
          ]
        }
      ]
    },
    {
      "cell_type": "markdown",
      "source": [
        "\n",
        "디폴트로 매개변수를 지정했다면 함수를 실행할 때 인수를 입력하지 않아도 디폴트값이 작동됩니다. 아래 함수에서 `bias`값이 디폴트값인 0으로 작동합니다. \n",
        "\n",
        "```\n",
        "plus(1, 3)\n",
        "```\n"
      ],
      "metadata": {
        "id": "7SZm0zoPq5LZ"
      }
    },
    {
      "cell_type": "code",
      "source": [
        "plus(1,3) # 디폴트 값은 안 써도 됩니다."
      ],
      "metadata": {
        "id": "JPnFtvMxq3Zp",
        "colab": {
          "base_uri": "https://localhost:8080/"
        },
        "outputId": "260c791f-b0f6-461d-d12b-28aa832e1aef"
      },
      "execution_count": null,
      "outputs": [
        {
          "output_type": "execute_result",
          "data": {
            "text/plain": [
              "4"
            ]
          },
          "metadata": {},
          "execution_count": 40
        }
      ]
    },
    {
      "cell_type": "markdown",
      "source": [
        "디폴트값을 조정 하고 싶다면 아래와 같이 함수를 작성합니다.\n",
        "\n",
        "```\n",
        "plus(1, 3, bias=1)\n",
        "```\n"
      ],
      "metadata": {
        "id": "o_p948MDq8hR"
      }
    },
    {
      "cell_type": "code",
      "source": [
        "plus(1, 3, bias=1)"
      ],
      "metadata": {
        "id": "EP_Y1x5jq7N3",
        "colab": {
          "base_uri": "https://localhost:8080/"
        },
        "outputId": "12894c2a-dcd4-446a-e2d1-b5bdf4de0cf8"
      },
      "execution_count": null,
      "outputs": [
        {
          "output_type": "execute_result",
          "data": {
            "text/plain": [
              "5"
            ]
          },
          "metadata": {},
          "execution_count": 42
        }
      ]
    },
    {
      "cell_type": "markdown",
      "source": [
        "#### **정해지지 않은 개수의 인풋 받기** \n",
        "\n",
        "\n",
        "인풋의 개수가 지정되어 있지 않는 함수를 만들어야 할 때가 있습니다. 이를 해결하기 위해서는 두가지 방법이 있습니다. \n",
        "\n",
        "\n",
        "* `args`\n",
        "\n",
        "`args`를 사용시에는 앞에 별 하나 `*` 를 붙입니다. 인풋을 몇개든 상관없이 받아 `args` 라는 변수로 반환합니다. \n",
        "\n",
        "\n",
        "```\n",
        "def many_input(*args):\n",
        "  print(args)\n",
        "\n",
        "many_input(1,2,3,4)\n",
        "```"
      ],
      "metadata": {
        "id": "S7CEd14Kq-zs"
      }
    },
    {
      "cell_type": "code",
      "source": [
        "# def many_input(*args):    # 정해지지않은 input의 개수\n",
        "#     print(args)\n",
        "\n",
        "# many_input(1,2,3,4) # args 라는 튜플 변수 사용가능\n",
        "\n",
        "def many_input(*args):\n",
        "    print(args[-1])\n",
        "\n",
        "many_input(1,2,3,4) # args 라는 튜플 변수 사용가능"
      ],
      "metadata": {
        "id": "P45CzJ6_q9vg",
        "colab": {
          "base_uri": "https://localhost:8080/"
        },
        "outputId": "9f6a6337-d314-4314-85ad-667696c8b294"
      },
      "execution_count": null,
      "outputs": [
        {
          "output_type": "stream",
          "name": "stdout",
          "text": [
            "4\n"
          ]
        }
      ]
    },
    {
      "cell_type": "markdown",
      "source": [
        "\n",
        "* `kwargs`\n",
        "\n",
        "`kwargs`를 사용시에는 앞에 별 두개 `**` 를 붙입니다. `key`와 `value`를 함께 받아 `kwargs`라는 이름의 딕셔너리를 반환합니다. . \n",
        "\n",
        "```\n",
        "def my_func(**kwargs):\n",
        "  print(kwargs)\n",
        "\n",
        "my_func(a=1, b=2, c=3)\n",
        "```\n"
      ],
      "metadata": {
        "id": "03ZXBFQ-rJm7"
      }
    },
    {
      "cell_type": "code",
      "source": [
        "def my_func(**kwargs):  # dict 형식으로 변수들을 작성해줍니다.\n",
        "    print(kwargs)\n",
        "my_func(a=1, b=2, c=3, dd=0) # 중복은 허용하지 않습니다."
      ],
      "metadata": {
        "id": "MqjVQcjMrGin",
        "colab": {
          "base_uri": "https://localhost:8080/"
        },
        "outputId": "0549a227-a9b4-46f5-f70a-540c24e1f096"
      },
      "execution_count": null,
      "outputs": [
        {
          "output_type": "stream",
          "name": "stdout",
          "text": [
            "{'a': 1, 'b': 2, 'c': 3, 'dd': 0}\n"
          ]
        }
      ]
    },
    {
      "cell_type": "markdown",
      "source": [
        "\n",
        "### **(6) 지역변수와 전역변수**\n",
        "\n",
        "`전역변수`는 프로그램 전체에서 사용되는 변수이고 `지역변수`는 특정 코드 블록 내에서만 사용되는 변수입니다. 함수 내에서 코드를 작성하고 변수를 지정하면 지역변수가 생성됩니다. 아래 코드에서 처음 선언된  `a`,`b`,`c`는 전역변수이고 함수내에 있는 `a`,`b`,`c`는 지역변수입니다. 함수내의 a,b,c,d는 전역변수에 영향을 미치지 않습니다. \n",
        "\n",
        "```\n",
        "a = 1\n",
        "b = 1\n",
        "c = 1\n",
        "\n",
        "def my_func(a, b):\n",
        "  c = a+b\n",
        "  d = a-b\n",
        "  return c\n",
        "\n",
        "my_out = my_func(5,5)\n",
        "print(a,b,c)\n",
        "```"
      ],
      "metadata": {
        "id": "yajec2TZxmGP"
      }
    },
    {
      "cell_type": "code",
      "source": [
        "a = 1\n",
        "b = 1\n",
        "c = 1\n",
        "\n",
        "def my_func(a, b):\n",
        "    c = a+b\n",
        "    d = a-b\n",
        "    return c        # 함수 밖에서는 영향을 끼치지 않습니다.\n",
        "\n",
        "my_out = my_func(5,5)\n",
        "print(a,b,c)\n",
        "print(my_out)"
      ],
      "metadata": {
        "id": "beqPrLnUxkIf",
        "colab": {
          "base_uri": "https://localhost:8080/"
        },
        "outputId": "d901106c-ce9c-4e50-87ec-e47566ae1641"
      },
      "execution_count": null,
      "outputs": [
        {
          "output_type": "stream",
          "name": "stdout",
          "text": [
            "1 1 1\n",
            "10\n"
          ]
        }
      ]
    },
    {
      "cell_type": "markdown",
      "source": [
        "함수 선언시에는 반환 값이 전역변수로 지정됩니다.\n",
        "\n",
        "```\n",
        "c = my_func(5,5)\n",
        "print(a,b,c)\n",
        "```\n"
      ],
      "metadata": {
        "id": "hOeGWRv_xqJJ"
      }
    },
    {
      "cell_type": "code",
      "source": [
        "c = my_func(5,5)\n",
        "print(a,b,c)"
      ],
      "metadata": {
        "id": "v1MFcQ6ZxpUH",
        "colab": {
          "base_uri": "https://localhost:8080/"
        },
        "outputId": "4cde5da5-8ce2-4cd8-a1b4-9a284ae9c2ab"
      },
      "execution_count": null,
      "outputs": [
        {
          "output_type": "stream",
          "name": "stdout",
          "text": [
            "1 1 10\n"
          ]
        }
      ]
    },
    {
      "cell_type": "markdown",
      "source": [
        "함수내에서 선언했던 모든 변수들은 함수 밖에서 실행되지 않습니다.\n",
        "\n",
        "```\n",
        "print(d)\n",
        "```"
      ],
      "metadata": {
        "id": "KsiQATG9xr_-"
      }
    },
    {
      "cell_type": "code",
      "source": [
        "print(d)"
      ],
      "metadata": {
        "id": "izP8b1B5xsvR",
        "colab": {
          "base_uri": "https://localhost:8080/",
          "height": 174
        },
        "outputId": "a6bd6a69-66c8-442b-9302-4a7ff00b40a1"
      },
      "execution_count": null,
      "outputs": [
        {
          "output_type": "error",
          "ename": "NameError",
          "evalue": "ignored",
          "traceback": [
            "\u001b[0;31m---------------------------------------------------------------------------\u001b[0m",
            "\u001b[0;31mNameError\u001b[0m                                 Traceback (most recent call last)",
            "\u001b[0;32m<ipython-input-58-85549cb1de5f>\u001b[0m in \u001b[0;36m<module>\u001b[0;34m()\u001b[0m\n\u001b[0;32m----> 1\u001b[0;31m \u001b[0mprint\u001b[0m\u001b[0;34m(\u001b[0m\u001b[0md\u001b[0m\u001b[0;34m)\u001b[0m\u001b[0;34m\u001b[0m\u001b[0;34m\u001b[0m\u001b[0m\n\u001b[0m",
            "\u001b[0;31mNameError\u001b[0m: name 'd' is not defined"
          ]
        }
      ]
    },
    {
      "cell_type": "markdown",
      "source": [
        "#### **함수 내에서 전역변수 설정하기**\n",
        "\n",
        "* `global`\n",
        "\n",
        "만약 함수내 지역변수를 전역변수로 지정하고 싶다면 `global` 을 사용합니다.\n",
        "\n",
        "```\n",
        "def my_func(a, b):\n",
        "  global d\n",
        "  c = a+b\n",
        "  d = a-b\n",
        "  return c\n",
        "\n",
        "print(d)\n",
        "```\n"
      ],
      "metadata": {
        "id": "P2x721rGxvix"
      }
    },
    {
      "cell_type": "code",
      "source": [
        "def my_func(a,b):\n",
        "    global d\n",
        "    c = a+b\n",
        "    d = a-b\n",
        "    return c\n",
        "\n",
        "\n",
        "print(d)"
      ],
      "metadata": {
        "id": "FasjPCKAxrnv",
        "colab": {
          "base_uri": "https://localhost:8080/",
          "height": 211
        },
        "outputId": "246b0d48-7408-4c7d-9c56-274dc5bac321"
      },
      "execution_count": null,
      "outputs": [
        {
          "output_type": "error",
          "ename": "NameError",
          "evalue": "ignored",
          "traceback": [
            "\u001b[0;31m---------------------------------------------------------------------------\u001b[0m",
            "\u001b[0;31mNameError\u001b[0m                                 Traceback (most recent call last)",
            "\u001b[0;32m<ipython-input-60-c6a6bf536c3c>\u001b[0m in \u001b[0;36m<module>\u001b[0;34m()\u001b[0m\n\u001b[1;32m      6\u001b[0m \u001b[0;34m\u001b[0m\u001b[0m\n\u001b[1;32m      7\u001b[0m \u001b[0;34m\u001b[0m\u001b[0m\n\u001b[0;32m----> 8\u001b[0;31m \u001b[0mprint\u001b[0m\u001b[0;34m(\u001b[0m\u001b[0md\u001b[0m\u001b[0;34m)\u001b[0m\u001b[0;34m\u001b[0m\u001b[0;34m\u001b[0m\u001b[0m\n\u001b[0m",
            "\u001b[0;31mNameError\u001b[0m: name 'd' is not defined"
          ]
        }
      ]
    },
    {
      "cell_type": "markdown",
      "source": [
        "여전히 에러가 뜨나요? `global`을 사용할 때는 주의사항이 있습니다. 생성한 함수를 실행을 해야 `global` 값이 적용됩니다.\n",
        "```\n",
        "my_func(1,2)\n",
        "print(d)\n",
        "```"
      ],
      "metadata": {
        "id": "G4l2cJGxyJdQ"
      }
    },
    {
      "cell_type": "code",
      "source": [
        "my_func(1,2)\n",
        "print(d)"
      ],
      "metadata": {
        "id": "RZrpTa17xttw",
        "colab": {
          "base_uri": "https://localhost:8080/"
        },
        "outputId": "7ca0d03b-d306-410c-94b9-2a720b3bcac9"
      },
      "execution_count": null,
      "outputs": [
        {
          "output_type": "stream",
          "name": "stdout",
          "text": [
            "-1\n"
          ]
        }
      ]
    },
    {
      "cell_type": "markdown",
      "source": [
        "## 문제 풀이\n",
        "---"
      ],
      "metadata": {
        "id": "QZaG85aOyhDc"
      }
    },
    {
      "cell_type": "markdown",
      "source": [
        "\n",
        "\n",
        "**예제 01**\n",
        "\n",
        "정수 n 을 받아서 python!을 n번 반복해서 출력하는 함수 `call_python()` 을 작성하세요\n",
        "\n",
        "```\n",
        "call_python(4)\n",
        "```"
      ],
      "metadata": {
        "id": "bnO7hxUJygQy"
      }
    },
    {
      "cell_type": "code",
      "source": [
        "def call_python(n):\n",
        "    print(\"python!\"*n)\n",
        "\n",
        "call_python(4)"
      ],
      "metadata": {
        "id": "SqNDqJ5XyMty",
        "colab": {
          "base_uri": "https://localhost:8080/"
        },
        "outputId": "e957c170-6263-479e-bea0-fab129107864"
      },
      "execution_count": null,
      "outputs": [
        {
          "output_type": "stream",
          "name": "stdout",
          "text": [
            "python!python!python!python!\n"
          ]
        }
      ]
    },
    {
      "cell_type": "markdown",
      "source": [
        "**예제 02**\n",
        "\n",
        "아래 이차함수를 파이썬 함수로 구현하세요\n",
        "\n",
        "\n",
        "$y = x^2 + 2x -1$"
      ],
      "metadata": {
        "id": "88qQp7O9yjg-"
      }
    },
    {
      "cell_type": "code",
      "source": [
        "import math\n",
        "def fun_2(x):\n",
        "    return(x**2+2*x-1)\n",
        "\n",
        "\n",
        "fun_2(5)"
      ],
      "metadata": {
        "id": "3AjXYRf4yj-x",
        "colab": {
          "base_uri": "https://localhost:8080/"
        },
        "outputId": "6cb83963-408e-452b-f54b-e7102e802e9f"
      },
      "execution_count": null,
      "outputs": [
        {
          "output_type": "execute_result",
          "data": {
            "text/plain": [
              "34"
            ]
          },
          "metadata": {},
          "execution_count": 67
        }
      ]
    },
    {
      "cell_type": "markdown",
      "source": [
        "**예제 03**\n",
        "\n",
        "삼각형의 넓이를 구하는 식은 아래와 같습니다. 함수로 구현하세요\n",
        "\n",
        "$ a = width · height · 0.5$\n"
      ],
      "metadata": {
        "id": "PCXgawYjykDQ"
      }
    },
    {
      "cell_type": "code",
      "source": [
        "def triangle(width,height):\n",
        "    return(width*height*0.5)\n",
        "\n",
        "triangle(4,5)"
      ],
      "metadata": {
        "id": "z5UdFfWbylVS",
        "colab": {
          "base_uri": "https://localhost:8080/"
        },
        "outputId": "64036e44-5ef7-4e24-8b9b-2a97edf75792"
      },
      "execution_count": null,
      "outputs": [
        {
          "output_type": "execute_result",
          "data": {
            "text/plain": [
              "10.0"
            ]
          },
          "metadata": {},
          "execution_count": 69
        }
      ]
    },
    {
      "cell_type": "markdown",
      "source": [
        "\n",
        "**예제 04**\n",
        "\n",
        "문자열 s와 정수 n 을 입력하면 문자열의 n번째와 n-1번째 문자가 출력되는 함수 `split_string()` 을 작성하세요\n",
        "\n",
        "* 예시\n",
        "```\n",
        ">> split_string(\"코스모스\", 1)\n",
        "스코\n",
        "```\n",
        "\n",
        "* 예시\n",
        "```\n",
        ">> split_string(\"충분히긴문자\", 5)\n",
        "자문\n",
        "```\n"
      ],
      "metadata": {
        "id": "csqMSp6Nylib"
      }
    },
    {
      "cell_type": "code",
      "source": [
        "def split_string(s, n):\n",
        "    return print(s[n],s[n-1])\n",
        "\n",
        "\n",
        "split_string(\"코스모스\",1)\n",
        "split_string(\"충분하긴문자\",5)"
      ],
      "metadata": {
        "id": "8ZgkxmeSynXP",
        "colab": {
          "base_uri": "https://localhost:8080/"
        },
        "outputId": "76f8d0f1-e457-40b5-e562-cdb477d7d433"
      },
      "execution_count": null,
      "outputs": [
        {
          "output_type": "stream",
          "name": "stdout",
          "text": [
            "스 코\n",
            "자 문\n"
          ]
        }
      ]
    },
    {
      "cell_type": "code",
      "source": [
        "def split_string(s, n):\n",
        "    return(s[n:n-2:-1])\n",
        "split_string(\"충분하긴문자\",5)"
      ],
      "metadata": {
        "colab": {
          "base_uri": "https://localhost:8080/",
          "height": 35
        },
        "id": "l4ziud1QnAqr",
        "outputId": "e57bbfa4-fbb1-4482-b31c-e43dceab1805"
      },
      "execution_count": null,
      "outputs": [
        {
          "output_type": "execute_result",
          "data": {
            "text/plain": [
              "'자문'"
            ],
            "application/vnd.google.colaboratory.intrinsic+json": {
              "type": "string"
            }
          },
          "metadata": {},
          "execution_count": 96
        }
      ]
    },
    {
      "cell_type": "markdown",
      "source": [
        "**예제 05**\n",
        "\n",
        "물건의 할인가는 가격의 70%입니다. 물건의 원래가격 d를 인풋으로하고 할인가를 아웃풋으로 하는 함수 `cal_sale()`을 작성하세요\n",
        "\n",
        "* 예시\n",
        "```\n",
        ">> 할인가 = cal_up_low(100)\n",
        ">> print(할인가)\n",
        "70\n",
        "```"
      ],
      "metadata": {
        "id": "kNl46OS1yncT"
      }
    },
    {
      "cell_type": "code",
      "source": [
        "# d는 원래 물건가격\n",
        "def cal_up_low(d):\n",
        "    return(d*0.7)\n",
        "cal_up_low(200)"
      ],
      "metadata": {
        "id": "9MtLyDnLy35w",
        "colab": {
          "base_uri": "https://localhost:8080/"
        },
        "outputId": "1922ff7d-f2bd-4c13-ae71-2da035186261"
      },
      "execution_count": null,
      "outputs": [
        {
          "output_type": "execute_result",
          "data": {
            "text/plain": [
              "140.0"
            ]
          },
          "metadata": {},
          "execution_count": 97
        }
      ]
    },
    {
      "cell_type": "markdown",
      "source": [
        "**예제 06**\n",
        "\n",
        "리스트 a가 주어지면 a의 평균이 몇인지 출력하는 함수를 구현하세요\n",
        "\n",
        "* 예시\n",
        "```\n",
        ">> cal_mean([1,2,3])\n",
        "평균은 2 입니다. \n",
        "```\n",
        "\n",
        "* 예시\n",
        "```\n",
        ">> cal_mean([1,2,3,4,5])\n",
        "평균은 3 입니다. \n",
        "```\n"
      ],
      "metadata": {
        "id": "iA6rQROhy5He"
      }
    },
    {
      "cell_type": "code",
      "source": [
        "def cal_mean(a):\n",
        "    return print(\"평균은 \",sum(a)/len(a),\" 입니다.\")\n",
        "cal_mean([1,2,3])"
      ],
      "metadata": {
        "id": "mAzL6XCVy7on",
        "colab": {
          "base_uri": "https://localhost:8080/"
        },
        "outputId": "0f1fa6d6-68b8-432a-b353-aa749fe140e8"
      },
      "execution_count": null,
      "outputs": [
        {
          "output_type": "stream",
          "name": "stdout",
          "text": [
            "평균은  2.0  입니다.\n"
          ]
        }
      ]
    },
    {
      "cell_type": "code",
      "source": [
        "list = [1,2,3,4,5]\n",
        "print(sum(list))\n",
        "print(len(list))\n",
        "print(sum(list)/len(list))"
      ],
      "metadata": {
        "colab": {
          "base_uri": "https://localhost:8080/"
        },
        "id": "qq3J1Q6po_DB",
        "outputId": "162429da-60ac-4e22-b161-e6042b1a609d"
      },
      "execution_count": null,
      "outputs": [
        {
          "output_type": "stream",
          "name": "stdout",
          "text": [
            "15\n",
            "5\n",
            "3.0\n"
          ]
        }
      ]
    },
    {
      "cell_type": "markdown",
      "source": [
        "**예제 07**\n",
        "\n",
        "\n",
        "리스트 a가 주어지면 a의 평균이 몇인지 출력하는 함수를 구현하세요\n",
        "\n",
        "* 예시\n",
        "```\n",
        ">> cal_mean(1,2,3)\n",
        "평균은 2 입니다. \n",
        "```\n",
        "* 예시\n",
        "```\n",
        ">> cal_mean(1,2,3,4,5)\n",
        "평균은 3 입니다. \n",
        "```\n",
        "\n"
      ],
      "metadata": {
        "id": "o96WO90vzJxn"
      }
    },
    {
      "cell_type": "code",
      "source": [
        "def cal_mean(*args):\n",
        "    return print(\"평균은 \",sum(args)/len(args),\" 입니다.\")\n",
        "cal_mean(1,2,3,4,5)"
      ],
      "metadata": {
        "id": "IVYvnDEszJxo",
        "colab": {
          "base_uri": "https://localhost:8080/"
        },
        "outputId": "852e416d-f214-4250-b9b0-2c930b92458c"
      },
      "execution_count": null,
      "outputs": [
        {
          "output_type": "stream",
          "name": "stdout",
          "text": [
            "평균은  3.0  입니다.\n"
          ]
        }
      ]
    },
    {
      "cell_type": "markdown",
      "source": [
        "\n",
        "**예제 08**\n",
        "\n",
        "\n",
        "무작위 숫자들을 입력하면 최소값, 최대값을 반환하는 함수`numbers()`를 작성하세요. \n",
        "\n",
        "* 예시\n",
        "```\n",
        ">> mn, mx = numbers(1,3,2,1,1)\n",
        ">> print(mn, mx)\n",
        "1 3\n",
        "```\n"
      ],
      "metadata": {
        "id": "lGF7nVBezSPn"
      }
    },
    {
      "cell_type": "code",
      "source": [
        "def mn_mx(*args):\n",
        "    mn = min(args)\n",
        "    mx = max(args)\n",
        "    return print(mn, mx)\n",
        "\n",
        "mn_mx(1,2,3,5,4,8,0,6,5,4,7,8,4)"
      ],
      "metadata": {
        "id": "H3rAyjJQzSx4",
        "colab": {
          "base_uri": "https://localhost:8080/"
        },
        "outputId": "301c0935-3e91-4b1b-d075-6d5d616b295e"
      },
      "execution_count": null,
      "outputs": [
        {
          "output_type": "stream",
          "name": "stdout",
          "text": [
            "0 8\n"
          ]
        }
      ]
    },
    {
      "cell_type": "markdown",
      "source": [
        "\n",
        "**예제 09**\n",
        "\n",
        "길동이는 아래와 같이 코드를 작성하였으나 실행하자 에러 메시지가 떴습니다.  코드의 문제를 설명하세요\n",
        "\n",
        "```\n",
        "def my_func():\n",
        "  aa = 1\n",
        "  bb = 2\n",
        "  cc = 3\n",
        "  return aa+bb+cc\n",
        "\n",
        "o = my_func()\n",
        "print(o,aa,bb,cc)\n",
        "```"
      ],
      "metadata": {
        "id": "dPoJjFdkzaY2"
      }
    },
    {
      "cell_type": "markdown",
      "source": [
        "aa, bb, cc 는 지역 변수입니다. 관련 함수 밖으로 나오면 아무런 의미를 가지지 못하는 함수이기 때문에 오류가 발생하였습니다."
      ],
      "metadata": {
        "id": "7KuNcp1kxHvg"
      }
    },
    {
      "cell_type": "markdown",
      "source": [
        "**예제 10**\n",
        "\n",
        "에러가 뜨지 않도록 위의 함수 `my_func()`를 수정하세요\n",
        "\n"
      ],
      "metadata": {
        "id": "hexc4vsEzcXB"
      }
    },
    {
      "cell_type": "code",
      "source": [
        "def my_func():\n",
        "    global aa\n",
        "    global bb\n",
        "    global cc\n",
        "    aa = 1\n",
        "    bb = 2\n",
        "    cc = 3\n",
        "    return aa+bb+cc\n",
        "\n",
        "\n",
        "o = my_func()\n",
        "print(o,aa,bb,cc)"
      ],
      "metadata": {
        "id": "WF7PeJEIzoBq",
        "colab": {
          "base_uri": "https://localhost:8080/"
        },
        "outputId": "0a3181da-bc6f-4b7c-882e-cfb1e6bde7b7"
      },
      "execution_count": null,
      "outputs": [
        {
          "output_type": "stream",
          "name": "stdout",
          "text": [
            "6 1 2 3\n"
          ]
        }
      ]
    }
  ]
}