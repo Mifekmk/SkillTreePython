{
  "nbformat": 4,
  "nbformat_minor": 0,
  "metadata": {
    "colab": {
      "name": "2-7.파이썬의 자료형_불.ipynb",
      "provenance": [],
      "collapsed_sections": [],
      "include_colab_link": true
    },
    "kernelspec": {
      "name": "python3",
      "display_name": "Python 3"
    },
    "language_info": {
      "name": "python"
    }
  },
  "cells": [
    {
      "cell_type": "markdown",
      "metadata": {
        "id": "view-in-github",
        "colab_type": "text"
      },
      "source": [
        "<a href=\"https://colab.research.google.com/github/Mifekmk/SkillTreePython/blob/main/2_7_%ED%8C%8C%EC%9D%B4%EC%8D%AC%EC%9D%98_%EC%9E%90%EB%A3%8C%ED%98%95_%EB%B6%88.ipynb\" target=\"_parent\"><img src=\"https://colab.research.google.com/assets/colab-badge.svg\" alt=\"Open In Colab\"/></a>"
      ]
    },
    {
      "cell_type": "markdown",
      "source": [
        "# 2-7.파이썬의 자료형:불 \n",
        "---\n",
        "* 날짜: 2022-03-30\n",
        "* 이름: 김민규"
      ],
      "metadata": {
        "id": "kB5IciXEm6o4"
      }
    },
    {
      "cell_type": "markdown",
      "source": [
        "## 개념정리\n",
        "---\n",
        "\n",
        "\n",
        "딕셔너리(dictionary) 는 `key`와 `value`로 이루어져 있습니다. 마치 사전처럼 특정 `key`에 접근해서 해당 `key`에 해당하는 `value`를 확인할 수 있습니다. 따라서 딕서녀리에서의 인덱싱 방법은 리스트나 튜플과 다르다는 점을 유의해야 합니다."
      ],
      "metadata": {
        "id": "4iN8NFzHRJ2D"
      }
    },
    {
      "cell_type": "markdown",
      "source": [
        "### **(1) 생성**\n",
        "\n",
        "불 자료형은 단 두가지의 값, `True`와 `False`만을 가지고 있습니다. \n",
        "\n",
        "* True\n",
        "\n",
        "```\n",
        "bool_t = True\n",
        "print(bool_t, type(bool_t))\n",
        "```"
      ],
      "metadata": {
        "id": "MAM8MDnfw68b"
      }
    },
    {
      "cell_type": "code",
      "source": [
        "bool_t = True\n",
        "print(bool_t, type(bool_t))"
      ],
      "metadata": {
        "id": "-A_CdM3VvJwE",
        "colab": {
          "base_uri": "https://localhost:8080/"
        },
        "outputId": "708edc2c-8430-4343-e88f-00eed6511a6c"
      },
      "execution_count": 1,
      "outputs": [
        {
          "output_type": "stream",
          "name": "stdout",
          "text": [
            "True <class 'bool'>\n"
          ]
        }
      ]
    },
    {
      "cell_type": "markdown",
      "source": [
        "* False\n",
        "\n",
        "```\n",
        "bool_f = False\n",
        "print(bool_f, type(bool_f))\n",
        "```"
      ],
      "metadata": {
        "id": "ve0Q78levM7y"
      }
    },
    {
      "cell_type": "code",
      "source": [
        "bool_f = False\n",
        "print(bool_f, type(bool_f))"
      ],
      "metadata": {
        "id": "oL0peiU6vNLW",
        "colab": {
          "base_uri": "https://localhost:8080/"
        },
        "outputId": "e0e1d10e-8f4c-4ae2-f7c6-9c3327231b49"
      },
      "execution_count": 2,
      "outputs": [
        {
          "output_type": "stream",
          "name": "stdout",
          "text": [
            "False <class 'bool'>\n"
          ]
        }
      ]
    },
    {
      "cell_type": "markdown",
      "source": [
        "### **(2) 비교연산자**\n",
        "\n",
        "보통 불 자료형은 참과 거짓을 판단할 때 사용 합니다. 비교연산자를 통해 데이터 간의 관계를 판별하고 이를 불 자료형으로 저장할 수 있습니다.\n",
        "\n",
        "|설명|코드|\n",
        "|--|--|\n",
        "|같다|`==`|\n",
        "|다르다|`!=`|\n",
        "|크다/작다|`<`/`>`|\n",
        "|크거나 같다/작거나 같다|`<=`/`>=`|\n"
      ],
      "metadata": {
        "id": "RSd2HMOPvXJX"
      }
    },
    {
      "cell_type": "markdown",
      "source": [
        "```\n",
        "a = 10\n",
        "b = 10\n",
        "c = 20\n",
        "```"
      ],
      "metadata": {
        "id": "lChKfbz6vghh"
      }
    },
    {
      "cell_type": "code",
      "source": [
        "a = 10\n",
        "b = 10\n",
        "c = 20"
      ],
      "metadata": {
        "id": "Iql1vi-uvhyX"
      },
      "execution_count": 3,
      "outputs": []
    },
    {
      "cell_type": "markdown",
      "source": [
        "\n",
        "#### **같다**\n",
        "\n",
        "* `==`\n",
        "\n",
        "```\n",
        "print(a==b)\n",
        "print(a==c)\n",
        "```"
      ],
      "metadata": {
        "id": "sb_fMnF4vZ8M"
      }
    },
    {
      "cell_type": "code",
      "source": [
        "# print(a==b)\n",
        "# print(a==c)\n",
        "a==b\n",
        "a==c"
      ],
      "metadata": {
        "id": "WJk0qA7FvOJn",
        "colab": {
          "base_uri": "https://localhost:8080/"
        },
        "outputId": "df68519e-aae4-441a-df65-6e26938cb9c2"
      },
      "execution_count": 7,
      "outputs": [
        {
          "output_type": "execute_result",
          "data": {
            "text/plain": [
              "False"
            ]
          },
          "metadata": {},
          "execution_count": 7
        }
      ]
    },
    {
      "cell_type": "markdown",
      "source": [
        "#### **다르다**\n",
        "\n",
        "* `!=`\n",
        "\n",
        "```\n",
        "print(a!=b)\n",
        "print(a!=c)\n",
        "```"
      ],
      "metadata": {
        "id": "Ko2-jAkLvcr9"
      }
    },
    {
      "cell_type": "code",
      "source": [
        "print(a!=b)\n",
        "print(a!=c)"
      ],
      "metadata": {
        "id": "Q0OHkDldvbMe",
        "colab": {
          "base_uri": "https://localhost:8080/"
        },
        "outputId": "32739d11-ba0a-4666-f4f1-d78f3586aa97"
      },
      "execution_count": 5,
      "outputs": [
        {
          "output_type": "stream",
          "name": "stdout",
          "text": [
            "False\n",
            "True\n"
          ]
        }
      ]
    },
    {
      "cell_type": "markdown",
      "source": [
        "#### **크다/작다**\n",
        "\n",
        "* `>`\n",
        "* `<`\n",
        "\n",
        "```\n",
        "print(a>c)\n",
        "print(a<c)\n",
        "```"
      ],
      "metadata": {
        "id": "8xA_skATvpnF"
      }
    },
    {
      "cell_type": "code",
      "source": [
        "print(a>c)\n",
        "print(a<c)"
      ],
      "metadata": {
        "id": "LjhSc6J6vlf9",
        "colab": {
          "base_uri": "https://localhost:8080/"
        },
        "outputId": "681ecc95-a996-4037-f2ca-e52a303039e8"
      },
      "execution_count": 8,
      "outputs": [
        {
          "output_type": "stream",
          "name": "stdout",
          "text": [
            "False\n",
            "True\n"
          ]
        }
      ]
    },
    {
      "cell_type": "markdown",
      "source": [
        "#### **크거나(작거나) 같다**\n",
        "\n",
        "* `>=`\n",
        "* `<=`\n",
        "\n",
        "```\n",
        "print(a>=c)\n",
        "print(a<=c)\n",
        "```"
      ],
      "metadata": {
        "id": "0H5UpFNqvstu"
      }
    },
    {
      "cell_type": "code",
      "source": [
        "print(a>=c)\n",
        "print(a<=c)"
      ],
      "metadata": {
        "id": "j6g27kAyvrb4",
        "colab": {
          "base_uri": "https://localhost:8080/"
        },
        "outputId": "83afc009-1f44-449a-c1fa-f475a30a8634"
      },
      "execution_count": 9,
      "outputs": [
        {
          "output_type": "stream",
          "name": "stdout",
          "text": [
            "False\n",
            "True\n"
          ]
        }
      ]
    },
    {
      "cell_type": "markdown",
      "source": [
        "###  **(3) Identity 연산자** (중요)\n",
        "\n",
        "|설명|코드|\n",
        "|--|--|\n",
        "|(메모리주소가)같다|`is`|\n",
        "|(메모리주소가)다르다|`is not`|\n",
        "\n",
        "`Identity` 라고 하는 것은 두 변수가 같은 메모리 주소를 가리키는 것을 일컫습니다. 아래와 같이 세개의 값 `a`, `b`, `c`가 숫자 10으로 바인딩 되어 있습니다.\n",
        "\n",
        "```\n",
        "a = 10\n",
        "b = 10.0\n",
        "```\n"
      ],
      "metadata": {
        "id": "eF4oulf5vwEJ"
      }
    },
    {
      "cell_type": "code",
      "source": [
        "a = 10\n",
        "b = 10.0\n",
        "type(a), type(b)"
      ],
      "metadata": {
        "id": "ktyXZcurvuCY",
        "colab": {
          "base_uri": "https://localhost:8080/"
        },
        "outputId": "e70baf6c-129a-47af-f182-9f7a1c919386"
      },
      "execution_count": 10,
      "outputs": [
        {
          "output_type": "execute_result",
          "data": {
            "text/plain": [
              "(int, float)"
            ]
          },
          "metadata": {},
          "execution_count": 10
        }
      ]
    },
    {
      "cell_type": "markdown",
      "source": [
        "\n",
        "#### **(메모리주소가) 같을 때**\n",
        "\n",
        "*  `is`\n",
        "\n",
        "\n",
        "`a==b` 는 `True` 이고 `a is b` 는 `False`임을 확인할 수 있습니다. `a`와 `b` 모두 값 자체는 `10`으로 동일하기 때문에 `a==b`는 `True` 값을 가지지만, `a`는 `int`이고 `b`는 `float` 자료형이기 때문에 `a is b`의 결과는 `False` 입니다.\n",
        "\n",
        "```\n",
        "print(a==b) # a, b 의 값이 같은지 판별\n",
        "print(a is b) # a, b 가 같은 메모리 주소에 있는지 판별\n",
        "```\n"
      ],
      "metadata": {
        "id": "9Yv_CuPOv0J8"
      }
    },
    {
      "cell_type": "code",
      "source": [
        "print(a == b)  # 값이 같은지 판별\n",
        "print(a is b) # 메모리 주소가 같은지 판별"
      ],
      "metadata": {
        "id": "uHpcb8vwvyYd",
        "colab": {
          "base_uri": "https://localhost:8080/"
        },
        "outputId": "3ededa7b-5ca9-441e-b1f3-6059c5b2340a"
      },
      "execution_count": 13,
      "outputs": [
        {
          "output_type": "stream",
          "name": "stdout",
          "text": [
            "True\n",
            "False\n"
          ]
        }
      ]
    },
    {
      "cell_type": "markdown",
      "source": [
        "#### **(메모리주소가) 다를 때**\n",
        "\n",
        "* `is not`\n",
        "\n",
        "\n",
        "반대의 경우입니다. `!=` 를 사용할 때는  `True`이고 `is not`은 `True` 입니다.  \n",
        "\n",
        "```\n",
        "print(a!=b)  # a, b 의 값이 다른지 판별\n",
        "print(a is not b) # a, b 가 다른 메모리 주소에 있는지 판별\n",
        "```\n"
      ],
      "metadata": {
        "id": "D-5lT6Rjv_TJ"
      }
    },
    {
      "cell_type": "code",
      "source": [
        "print(a!=b)\n",
        "print(a is not b) # 같은 값이라고 착각하면 안된다."
      ],
      "metadata": {
        "id": "ZRtzSicOgYfQ",
        "colab": {
          "base_uri": "https://localhost:8080/"
        },
        "outputId": "1e240cce-117e-4dc7-ae0d-5eeb0d83d7e1"
      },
      "execution_count": 15,
      "outputs": [
        {
          "output_type": "stream",
          "name": "stdout",
          "text": [
            "False\n",
            "True\n"
          ]
        }
      ]
    },
    {
      "cell_type": "markdown",
      "source": [
        "### **(4) 논리연산자**\n",
        "\n",
        "\n"
      ],
      "metadata": {
        "id": "Pepzbg-WwErt"
      }
    },
    {
      "cell_type": "markdown",
      "source": [
        "#### **`and` 연산자**\n",
        "\n",
        "* `and` : 모두 `True`여야 `True`, 그 외엔 `False`\n",
        "\n",
        "|A|B| 결과 |\n",
        "|--|--|--|\n",
        "|False|False|False| \n",
        "|False|True|False| \n",
        "|True|False|False| \n",
        "|True|True|True| \n",
        "\n",
        "```\n",
        "a = True\n",
        "b = False\n",
        "print(a and b)\n",
        "```"
      ],
      "metadata": {
        "id": "mmKaSILLxix2"
      }
    },
    {
      "cell_type": "code",
      "source": [
        "a = True\n",
        "b = False\n",
        "print(a and b)"
      ],
      "metadata": {
        "id": "c3a1U92Tv9je",
        "colab": {
          "base_uri": "https://localhost:8080/"
        },
        "outputId": "7f698328-44da-461a-dcf4-7a1105e393ee"
      },
      "execution_count": 16,
      "outputs": [
        {
          "output_type": "stream",
          "name": "stdout",
          "text": [
            "False\n"
          ]
        }
      ]
    },
    {
      "cell_type": "code",
      "source": [
        "n = 10\n",
        "a = n>5     # True\n",
        "b = n<20    # True\n",
        "a and b     # True"
      ],
      "metadata": {
        "colab": {
          "base_uri": "https://localhost:8080/"
        },
        "id": "Z_tPMvDet4b8",
        "outputId": "dc7db98e-454e-4c8d-cfaf-1911826e61eb"
      },
      "execution_count": 17,
      "outputs": [
        {
          "output_type": "execute_result",
          "data": {
            "text/plain": [
              "True"
            ]
          },
          "metadata": {},
          "execution_count": 17
        }
      ]
    },
    {
      "cell_type": "markdown",
      "source": [
        "#### **`or` 연산자**\n",
        "\n",
        "* `or` : 모두 `False`여야 `False`, 그 외엔 `True`\n",
        "\n",
        "|A|B| 결과 |\n",
        "|--|--|--|\n",
        "|False|False|False| \n",
        "|False|True|True| \n",
        "|True|False|True| \n",
        "|True|True|True| \n",
        "\n",
        "```\n",
        "a = True\n",
        "b = False\n",
        "print(a or b)\n",
        "```\n"
      ],
      "metadata": {
        "id": "YhxIRN0swIMk"
      }
    },
    {
      "cell_type": "code",
      "source": [
        "a = True\n",
        "b = False\n",
        "print(a or b)"
      ],
      "metadata": {
        "id": "FKszLHP8wGq4",
        "colab": {
          "base_uri": "https://localhost:8080/"
        },
        "outputId": "4045a40d-70f0-4a67-a5d1-162006b3a357"
      },
      "execution_count": 18,
      "outputs": [
        {
          "output_type": "stream",
          "name": "stdout",
          "text": [
            "True\n"
          ]
        }
      ]
    },
    {
      "cell_type": "markdown",
      "source": [
        "#### **`not` 연산자**\n",
        "\n",
        "* `not` : 반대\n",
        "\n",
        "|A|결과 |\n",
        "|--|--|\n",
        "|False|True| \n",
        "|False|False|\n",
        "\n",
        "```\n",
        "a = True\n",
        "print(not a)\n",
        "```"
      ],
      "metadata": {
        "id": "tPQXQ820wKx6"
      }
    },
    {
      "cell_type": "code",
      "source": [
        "a = True\n",
        "print(not a)"
      ],
      "metadata": {
        "id": "TN8hYesmwJR3",
        "colab": {
          "base_uri": "https://localhost:8080/"
        },
        "outputId": "5f36259b-42db-4123-f8ad-4582147756fb"
      },
      "execution_count": 19,
      "outputs": [
        {
          "output_type": "stream",
          "name": "stdout",
          "text": [
            "False\n"
          ]
        }
      ]
    },
    {
      "cell_type": "markdown",
      "source": [
        "### **(5) 자료형의 True/False**\n",
        "\n",
        "|값\t|자료형|\tTrue OR False |\n",
        "|--|--|--|\n",
        "\"hi\"|\tstr\t|True\n",
        "\"\"\t|str\t|False\n",
        "[1,2,3]\t|list|\tTrue\n",
        "[]|\tlist\t|False\n",
        "(1,2,3)\t|tuple|\tTrue\n",
        "()|\ttuple|\tFalse\n",
        "{}|\tdictionary|\tFalse\n",
        "1\t|int|\tTrue\n",
        "0\t|int|\tFalse\n"
      ],
      "metadata": {
        "id": "f6ZwYMcQwMq1"
      }
    },
    {
      "cell_type": "markdown",
      "source": [
        "#### **문자**\n",
        "\n",
        "문자가 하나라도 포함되어 있으면 `True` 입니다.\n",
        "\n",
        "```\n",
        "print(bool(\"abc\"))\n",
        "print(bool(\"\"))\n",
        "```\n"
      ],
      "metadata": {
        "id": "iu9Qsd9SwPRp"
      }
    },
    {
      "cell_type": "code",
      "source": [
        "print(bool(\"abc\"))\n",
        "print(bool(\"\"))"
      ],
      "metadata": {
        "id": "cADkAygFwLlw",
        "colab": {
          "base_uri": "https://localhost:8080/"
        },
        "outputId": "ed722495-5a48-4350-fd45-2e0744233613"
      },
      "execution_count": 20,
      "outputs": [
        {
          "output_type": "stream",
          "name": "stdout",
          "text": [
            "True\n",
            "False\n"
          ]
        }
      ]
    },
    {
      "cell_type": "markdown",
      "source": [
        "\n",
        "#### **리스트/튜플/딕셔너리**\n",
        "\n",
        "리스트(튜플/딕셔너리)에 하나라도 포함되어 있으면 `True` 입니다\n",
        "\n",
        "```\n",
        "print(bool([1,2]))\n",
        "print(bool([]))\n",
        "```"
      ],
      "metadata": {
        "id": "RCxgNv7HwTTH"
      }
    },
    {
      "cell_type": "code",
      "source": [
        "print(bool([1,2]))\n",
        "print(bool([]))"
      ],
      "metadata": {
        "id": "1zj7UJIxwRr1",
        "colab": {
          "base_uri": "https://localhost:8080/"
        },
        "outputId": "15194eda-5d52-43e6-d729-15497fa0bb45"
      },
      "execution_count": 21,
      "outputs": [
        {
          "output_type": "stream",
          "name": "stdout",
          "text": [
            "True\n",
            "False\n"
          ]
        }
      ]
    },
    {
      "cell_type": "markdown",
      "source": [
        "#### **수치자료형**\n",
        "\n",
        "0일때만 `False` 입니다.\n",
        "\n",
        "```\n",
        "print(bool(10))\n",
        "print(bool(-10))\n",
        "print(bool(0))\n",
        "```"
      ],
      "metadata": {
        "id": "ckclBKQAwXkd"
      }
    },
    {
      "cell_type": "code",
      "source": [
        "print(bool(10))\n",
        "print(bool(-10))\n",
        "print(bool(0))"
      ],
      "metadata": {
        "id": "sWhI9ZRXwWSt",
        "colab": {
          "base_uri": "https://localhost:8080/"
        },
        "outputId": "7d062a5a-8ab4-4f78-80d3-99feea3ea6a9"
      },
      "execution_count": 22,
      "outputs": [
        {
          "output_type": "stream",
          "name": "stdout",
          "text": [
            "True\n",
            "True\n",
            "False\n"
          ]
        }
      ]
    },
    {
      "cell_type": "code",
      "source": [
        "bool(1), bool(-3)"
      ],
      "metadata": {
        "colab": {
          "base_uri": "https://localhost:8080/"
        },
        "id": "S1WaWP7zx9Ky",
        "outputId": "3c4bf38d-f0e1-49cd-f690-1bd36a80979a"
      },
      "execution_count": 23,
      "outputs": [
        {
          "output_type": "execute_result",
          "data": {
            "text/plain": [
              "(True, True)"
            ]
          },
          "metadata": {},
          "execution_count": 23
        }
      ]
    },
    {
      "cell_type": "markdown",
      "source": [
        "## 문제풀이\n",
        "---"
      ],
      "metadata": {
        "id": "EOKHJNE_wdPo"
      }
    },
    {
      "cell_type": "markdown",
      "source": [
        "\n",
        "\n",
        "**예제 01**\n",
        "\n",
        "아래 결과를 예측하세요\n",
        "\n",
        "```\n",
        "bool(\"안녕\")\n",
        "```"
      ],
      "metadata": {
        "id": "eLhnxNGawcKi"
      }
    },
    {
      "cell_type": "code",
      "source": [
        "bool(\"안녕\")"
      ],
      "metadata": {
        "id": "W1SP3TtVwe7_",
        "colab": {
          "base_uri": "https://localhost:8080/"
        },
        "outputId": "bb2e2f22-c0b7-467c-d7dc-5afaf187864c"
      },
      "execution_count": 24,
      "outputs": [
        {
          "output_type": "execute_result",
          "data": {
            "text/plain": [
              "True"
            ]
          },
          "metadata": {},
          "execution_count": 24
        }
      ]
    },
    {
      "cell_type": "markdown",
      "source": [
        "**예제 02**\n",
        "\n",
        "아래 결과를 예측하세요\n",
        "\n",
        "```\n",
        "bool(\"\")\n",
        "```"
      ],
      "metadata": {
        "id": "xGNJ9y5Wwf54"
      }
    },
    {
      "cell_type": "code",
      "source": [
        "bool(\"\")"
      ],
      "metadata": {
        "id": "gHzUxS0Lwgzz",
        "colab": {
          "base_uri": "https://localhost:8080/"
        },
        "outputId": "a6ef4ad3-8a92-4a2e-c2d2-dcc913587a0f"
      },
      "execution_count": 25,
      "outputs": [
        {
          "output_type": "execute_result",
          "data": {
            "text/plain": [
              "False"
            ]
          },
          "metadata": {},
          "execution_count": 25
        }
      ]
    },
    {
      "cell_type": "markdown",
      "source": [
        "**예제 03**\n",
        "\n",
        "아래 결과를 예측하세요\n",
        "\n",
        "\n",
        "```\n",
        "bool([2,4,6])\n",
        "```"
      ],
      "metadata": {
        "id": "Tg2gHNY3wgAR"
      }
    },
    {
      "cell_type": "code",
      "source": [
        "bool([2,4,6])"
      ],
      "metadata": {
        "id": "vOJSteeUwiKM",
        "colab": {
          "base_uri": "https://localhost:8080/"
        },
        "outputId": "7cb72fb1-4796-49f9-f583-3a1a643c84f4"
      },
      "execution_count": 26,
      "outputs": [
        {
          "output_type": "execute_result",
          "data": {
            "text/plain": [
              "True"
            ]
          },
          "metadata": {},
          "execution_count": 26
        }
      ]
    },
    {
      "cell_type": "markdown",
      "source": [
        "**예제 04**\n",
        "\n",
        "\n",
        "아래 결과를 예측하세요\n",
        "\n",
        "\n",
        "```\n",
        "bool([0])\n",
        "```"
      ],
      "metadata": {
        "id": "uwujor7AwiRX"
      }
    },
    {
      "cell_type": "code",
      "source": [
        "bool([0])"
      ],
      "metadata": {
        "id": "5XzG9e4lwjZp",
        "colab": {
          "base_uri": "https://localhost:8080/"
        },
        "outputId": "3865aca3-56d4-4b9c-be80-546107ca3491"
      },
      "execution_count": 27,
      "outputs": [
        {
          "output_type": "execute_result",
          "data": {
            "text/plain": [
              "True"
            ]
          },
          "metadata": {},
          "execution_count": 27
        }
      ]
    },
    {
      "cell_type": "markdown",
      "source": [
        "**예제 05**\n",
        "\n",
        " 아래 결과를 예측하세요\n",
        "\n",
        "\n",
        "```\n",
        "bool(0)\n",
        "```"
      ],
      "metadata": {
        "id": "l1mgEeerwjep"
      }
    },
    {
      "cell_type": "code",
      "source": [
        "bool(0)"
      ],
      "metadata": {
        "id": "UZby3aNmwkd7",
        "colab": {
          "base_uri": "https://localhost:8080/"
        },
        "outputId": "894d3fe0-2b5d-4e26-cbc1-12cd236459be"
      },
      "execution_count": 28,
      "outputs": [
        {
          "output_type": "execute_result",
          "data": {
            "text/plain": [
              "False"
            ]
          },
          "metadata": {},
          "execution_count": 28
        }
      ]
    },
    {
      "cell_type": "markdown",
      "source": [
        "**예제 06**\n",
        "\n",
        " 아래 결과를 예측하세요\n",
        "\n",
        "\n",
        "```\n",
        "bool(1)\n",
        "```"
      ],
      "metadata": {
        "id": "PpUlq1KWwkio"
      }
    },
    {
      "cell_type": "code",
      "source": [
        "bool(1)"
      ],
      "metadata": {
        "id": "A9rPYh0pwlca",
        "colab": {
          "base_uri": "https://localhost:8080/"
        },
        "outputId": "7b69322d-af3d-4f56-d4fb-8b8c44f9a2ab"
      },
      "execution_count": 29,
      "outputs": [
        {
          "output_type": "execute_result",
          "data": {
            "text/plain": [
              "True"
            ]
          },
          "metadata": {},
          "execution_count": 29
        }
      ]
    },
    {
      "cell_type": "markdown",
      "source": [
        "**예제 07**\n",
        "\n",
        "아래 결과를 예측하세요\n",
        "\n",
        "```\n",
        "bool([1])\n",
        "```"
      ],
      "metadata": {
        "id": "yxuynfU6wlgX"
      }
    },
    {
      "cell_type": "code",
      "source": [
        "bool([1])"
      ],
      "metadata": {
        "id": "hwyvS1cywmil",
        "colab": {
          "base_uri": "https://localhost:8080/"
        },
        "outputId": "7813fe0c-cdf5-4933-fdf8-40fbf745aa1d"
      },
      "execution_count": 30,
      "outputs": [
        {
          "output_type": "execute_result",
          "data": {
            "text/plain": [
              "True"
            ]
          },
          "metadata": {},
          "execution_count": 30
        }
      ]
    },
    {
      "cell_type": "markdown",
      "source": [
        "**예제 08**\n",
        "\n",
        " 아래 결과를 예측하세요\n",
        "\n",
        "```\n",
        " print(3==5)\n",
        "```\n"
      ],
      "metadata": {
        "id": "C8gQteDmwmnT"
      }
    },
    {
      "cell_type": "code",
      "source": [
        ""
      ],
      "metadata": {
        "id": "vTdk0nAMwobn"
      },
      "execution_count": 30,
      "outputs": []
    },
    {
      "cell_type": "markdown",
      "source": [
        "**예제 09**\n",
        "\n",
        "아래 결과를 예측하세요\n",
        "```\n",
        " print(3<5)\n",
        "```"
      ],
      "metadata": {
        "id": "pV4o_x-LwohH"
      }
    },
    {
      "cell_type": "code",
      "source": [
        "print(3<5)"
      ],
      "metadata": {
        "id": "iEHsL_jtwp_U",
        "colab": {
          "base_uri": "https://localhost:8080/"
        },
        "outputId": "3815c8bf-b8ba-480b-cb31-447f72614b74"
      },
      "execution_count": 31,
      "outputs": [
        {
          "output_type": "stream",
          "name": "stdout",
          "text": [
            "True\n"
          ]
        }
      ]
    },
    {
      "cell_type": "markdown",
      "source": [
        "**예제 10**\n",
        "\n",
        " 아래 결과를 예측하세요\n",
        "\n",
        "```\n",
        "x = 4\n",
        "print(1<x<5)\n",
        "```\n"
      ],
      "metadata": {
        "id": "pWIRx-BBwqHk"
      }
    },
    {
      "cell_type": "code",
      "source": [
        "x = 4\n",
        "print(1<x<5)"
      ],
      "metadata": {
        "id": "Ye-UEjJpwrLb",
        "colab": {
          "base_uri": "https://localhost:8080/"
        },
        "outputId": "27d0e53d-4196-4064-93d8-b669883bbfe7"
      },
      "execution_count": 32,
      "outputs": [
        {
          "output_type": "stream",
          "name": "stdout",
          "text": [
            "True\n"
          ]
        }
      ]
    },
    {
      "cell_type": "markdown",
      "source": [
        "\n",
        "**예제 11**\n",
        "\n",
        "아래 결과를 예측하세요\n",
        "\n",
        "```\n",
        "print ((3 == 3) and (4 != 3))\n",
        "```"
      ],
      "metadata": {
        "id": "Q12O-j1bwrfQ"
      }
    },
    {
      "cell_type": "code",
      "source": [
        "print((3 == 3) and (4 != 3))"
      ],
      "metadata": {
        "id": "CtRh6aFXwsdd",
        "colab": {
          "base_uri": "https://localhost:8080/"
        },
        "outputId": "40938700-b54c-49b4-9212-667afd72cc51"
      },
      "execution_count": 33,
      "outputs": [
        {
          "output_type": "stream",
          "name": "stdout",
          "text": [
            "True\n"
          ]
        }
      ]
    },
    {
      "cell_type": "markdown",
      "source": [
        "\n",
        "**예제 12**\n",
        "\n",
        "아래 결과를 예측하세요\n",
        "\n",
        "```\n",
        "'a' in 'abc'\n",
        "```\n"
      ],
      "metadata": {
        "id": "rUiji_6nwshi"
      }
    },
    {
      "cell_type": "code",
      "source": [
        "'a' in 'abc'"
      ],
      "metadata": {
        "id": "ZxDpZkC_wtj7",
        "colab": {
          "base_uri": "https://localhost:8080/"
        },
        "outputId": "3e73e80e-9472-41c6-ed0d-7a59244d3e32"
      },
      "execution_count": 34,
      "outputs": [
        {
          "output_type": "execute_result",
          "data": {
            "text/plain": [
              "True"
            ]
          },
          "metadata": {},
          "execution_count": 34
        }
      ]
    },
    {
      "cell_type": "markdown",
      "source": [
        "**예제 13**\n",
        "\n",
        "\n",
        "아래 결과를 예측하세요\n",
        "\n",
        "```\n",
        "'a' in ['d','b','c']\n",
        "```\n"
      ],
      "metadata": {
        "id": "lJ_bWq0Fwtow"
      }
    },
    {
      "cell_type": "code",
      "source": [
        "'a' in ['a', 'b', 'c']"
      ],
      "metadata": {
        "id": "E0whSkKFwvF9",
        "colab": {
          "base_uri": "https://localhost:8080/"
        },
        "outputId": "d6755bf1-8a04-48ce-c7b8-d811121c05a7"
      },
      "execution_count": 35,
      "outputs": [
        {
          "output_type": "execute_result",
          "data": {
            "text/plain": [
              "True"
            ]
          },
          "metadata": {},
          "execution_count": 35
        }
      ]
    },
    {
      "cell_type": "markdown",
      "source": [
        "**예제 14**\n",
        "\n",
        "\n",
        "아래 결과를 예측하세요\n",
        "\n",
        "```\n",
        "'a' not in ['a','b','c']\n",
        "```"
      ],
      "metadata": {
        "id": "fyRztNmYwvKN"
      }
    },
    {
      "cell_type": "code",
      "source": [
        "'a' not in ['a','b','c']"
      ],
      "metadata": {
        "id": "6-1cfkVxwwSl",
        "colab": {
          "base_uri": "https://localhost:8080/"
        },
        "outputId": "55fb0841-6cff-4ae5-c647-dc2302b8d705"
      },
      "execution_count": 36,
      "outputs": [
        {
          "output_type": "execute_result",
          "data": {
            "text/plain": [
              "False"
            ]
          },
          "metadata": {},
          "execution_count": 36
        }
      ]
    },
    {
      "cell_type": "markdown",
      "source": [
        "**예제 15**\n",
        "\n",
        "아래 결과를 예측하세요\n",
        "\n",
        "```\n",
        "'a' not in 'abc'\n",
        "```"
      ],
      "metadata": {
        "id": "Lwx6We67wwYz"
      }
    },
    {
      "cell_type": "code",
      "source": [
        "'a' not in 'abc'"
      ],
      "metadata": {
        "id": "tprm6Yrdwy1p",
        "colab": {
          "base_uri": "https://localhost:8080/"
        },
        "outputId": "194f7a1a-9ec8-49a0-8eac-dd0a0c2a2730"
      },
      "execution_count": 37,
      "outputs": [
        {
          "output_type": "execute_result",
          "data": {
            "text/plain": [
              "False"
            ]
          },
          "metadata": {},
          "execution_count": 37
        }
      ]
    },
    {
      "cell_type": "markdown",
      "source": [
        "**예제 16**\n",
        "\n",
        "아래 결과가 나오도록 코드를 작성하세요\n",
        "\n",
        "\n",
        "```\n",
        ">> a = #코드를작성하세요\n",
        ">> b = #코드를작성하세요\n",
        ">> a and b\n",
        "True\n",
        "```"
      ],
      "metadata": {
        "id": "M7tF0Uzdwy6W"
      }
    },
    {
      "cell_type": "code",
      "source": [
        "a = True\n",
        "b = True\n",
        "a and b"
      ],
      "metadata": {
        "id": "gltL5ievw0G9",
        "colab": {
          "base_uri": "https://localhost:8080/"
        },
        "outputId": "4a4c0b77-8980-495b-f075-76a7dba741b5"
      },
      "execution_count": 39,
      "outputs": [
        {
          "output_type": "execute_result",
          "data": {
            "text/plain": [
              "True"
            ]
          },
          "metadata": {},
          "execution_count": 39
        }
      ]
    },
    {
      "cell_type": "markdown",
      "source": [
        "\n",
        "**예제 17**\n",
        "\n",
        "아래 결과가 나오도록 코드를 작성하세요\n",
        "\n",
        "\n",
        "```\n",
        ">> a = #코드를작성하세요\n",
        ">> b = #코드를작성하세요\n",
        ">> a or b\n",
        "False\n",
        "```"
      ],
      "metadata": {
        "id": "hK8VBKPdw0Ml"
      }
    },
    {
      "cell_type": "code",
      "source": [
        "a = False\n",
        "b = False\n",
        "a or b"
      ],
      "metadata": {
        "id": "uGeaGOPew1Nw",
        "colab": {
          "base_uri": "https://localhost:8080/"
        },
        "outputId": "b7c8607a-fa6c-47bc-ad79-462f9ce6b72a"
      },
      "execution_count": 42,
      "outputs": [
        {
          "output_type": "execute_result",
          "data": {
            "text/plain": [
              "False"
            ]
          },
          "metadata": {},
          "execution_count": 42
        }
      ]
    },
    {
      "cell_type": "code",
      "source": [
        ""
      ],
      "metadata": {
        "id": "LGro174Cy-Fh"
      },
      "execution_count": null,
      "outputs": []
    }
  ]
}