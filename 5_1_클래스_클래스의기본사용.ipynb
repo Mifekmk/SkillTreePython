{
  "nbformat": 4,
  "nbformat_minor": 0,
  "metadata": {
    "colab": {
      "name": "5-1.클래스_클래스의기본사용.ipynb",
      "provenance": [],
      "collapsed_sections": [],
      "include_colab_link": true
    },
    "kernelspec": {
      "name": "python3",
      "display_name": "Python 3"
    },
    "language_info": {
      "name": "python"
    }
  },
  "cells": [
    {
      "cell_type": "markdown",
      "metadata": {
        "id": "view-in-github",
        "colab_type": "text"
      },
      "source": [
        "<a href=\"https://colab.research.google.com/github/Mifekmk/SkillTreePython/blob/main/5_1_%ED%81%B4%EB%9E%98%EC%8A%A4_%ED%81%B4%EB%9E%98%EC%8A%A4%EC%9D%98%EA%B8%B0%EB%B3%B8%EC%82%AC%EC%9A%A9.ipynb\" target=\"_parent\"><img src=\"https://colab.research.google.com/assets/colab-badge.svg\" alt=\"Open In Colab\"/></a>"
      ]
    },
    {
      "cell_type": "markdown",
      "metadata": {
        "id": "jgFAOz-Tw1VI"
      },
      "source": [
        "5-1.클래스:클래스의 기본 사용\n",
        "---\n",
        "* 날짜: 2022-04-06\n",
        "* 이름: 김민규\n"
      ]
    },
    {
      "cell_type": "markdown",
      "metadata": {
        "id": "roC8A6Ro6THT"
      },
      "source": [
        "## 개념정리\n",
        "---\n",
        "\n"
      ]
    },
    {
      "cell_type": "markdown",
      "source": [
        "프로그래밍 언어는 크게 두가지 실행 방식으로 나뉠수 있습니다.\n",
        "\n",
        "* **절차지향적 코드**\n",
        "  - 위에서부터 아래로 순서대로 코드가 진행된다.\n",
        "  - ex) c++는 절차지향만을 사용\n",
        "\n",
        "* **객체지향적 코드**\n",
        "  - 객체지향은 객체를 만들어서 이 객체를 언제, 어디서든, 몇개든 사용할 수 있도록 하는 것\n",
        "  - ex) 자바, 파이썬 등\n",
        "\n"
      ],
      "metadata": {
        "id": "Ee54frgJYOr8"
      }
    },
    {
      "cell_type": "markdown",
      "metadata": {
        "id": "4azv1P74n23k"
      },
      "source": [
        "###**(1) 정의**\n",
        "\n",
        "클래스는 아래와 같이 정의 할 수 있습니다. \n",
        "\n",
        "\n",
        "```\n",
        "class Student:\n",
        "    pass\n",
        "```\n",
        "\n"
      ]
    },
    {
      "cell_type": "code",
      "metadata": {
        "id": "myVCV-mSn23l"
      },
      "source": [
        "class Student:      # 파이썬 네이밍할 때 대문자로 시작하는 것은 class라는 것을 인지하는 것으로\n",
        "    pass"
      ],
      "execution_count": null,
      "outputs": []
    },
    {
      "cell_type": "markdown",
      "source": [
        "클래스를 만들어 놓으면 틀만 만들어 놓은것과 같습니다. 이제 틀을 이용하여 인스턴스를 만들어 봅시다. "
      ],
      "metadata": {
        "id": "7jJg3FA2iRtY"
      }
    },
    {
      "cell_type": "markdown",
      "metadata": {
        "id": "KCOmBjQRn23l"
      },
      "source": [
        "###**(2) 인스턴스 생성**\n",
        "\n",
        "인스턴스란 위에서 만든 클래스라는 틀을 이용해 똑같은 일을 하는 함수들을 찍어내는 것을 말합니다. Student 클래스의 인스턴스를 생성하고 이를 me 라는 변수로 바인딩합시다.\n",
        "\n",
        "```\n",
        "me = Student()\n",
        "```\n",
        "\n"
      ]
    },
    {
      "cell_type": "code",
      "metadata": {
        "id": "HJi-ra_wn23l"
      },
      "source": [
        "me = Student()"
      ],
      "execution_count": null,
      "outputs": []
    },
    {
      "cell_type": "markdown",
      "source": [
        "이제부터는 `me`라는 객체를 이용해서 클래스 내부의 여러가지 기능을 사용할 수 있습니다. 하지만 우리가 방금 만든 `Student`라는 클래스는 아무런 기능을 하지 않습니다. 기능을 할 수 있도록 클래스 내부에 속성을 추가해 봅시다. "
      ],
      "metadata": {
        "id": "ZkrmiFLzlWzX"
      }
    },
    {
      "cell_type": "markdown",
      "metadata": {
        "id": "QZ3_evMHn23l"
      },
      "source": [
        "###**(3) 속성**"
      ]
    },
    {
      "cell_type": "markdown",
      "source": [
        "#### **초기화 메서드**\n",
        "\n",
        "\n",
        "`__init__` 메서드는 초기화 메서드입니다. 클래스가 생성되면 `__init__` 메서드가 자동적으로 실행되며 클래스의 값을 지정된 값으로 초기화 합니다. 이 때 값은 인스턴스를 만들 때 넣어준 인자로 만듭니다. \n",
        "\n",
        "`Student` 클래스에 이를 이용해 초기값을 세팅해 봅시다. 학생의 이름과 수강 과목, 그리고 레벨을 정의합시다. 이름과 수강 과목은 인스턴스를 생성할 때 입려개하도록 하고, 레벨은 0부터 시작하도록 합시다.\n",
        "\n",
        "\n",
        "```\n",
        "class Student():\n",
        "    def __init__(self, name, subject):\n",
        "      self.name = name\n",
        "      self.subject = subject\n",
        "      self.level = 0\n",
        "\n",
        "me = Student(\"김모모\", \"기초반\")\n",
        "\n",
        "```"
      ],
      "metadata": {
        "id": "PDR3CtnZoUj1"
      }
    },
    {
      "cell_type": "markdown",
      "metadata": {
        "id": "P3KmS4awqk6E"
      },
      "source": [
        "* 클래스 생성"
      ]
    },
    {
      "cell_type": "code",
      "metadata": {
        "id": "tUKx8JbCqk6F"
      },
      "source": [
        "class Student():\n",
        "    def __init__(self, name, subject):\n",
        "        self.name = name\n",
        "        self.subject = subject\n",
        "        self.level = 0"
      ],
      "execution_count": null,
      "outputs": []
    },
    {
      "cell_type": "markdown",
      "metadata": {
        "id": "NUcDQ1mUqk6F"
      },
      "source": [
        "* 인스턴스 생성"
      ]
    },
    {
      "cell_type": "code",
      "metadata": {
        "id": "KKAusE2Hqk6F"
      },
      "source": [
        "# 호출\n",
        "me = Student(\"김모모\", \"기초반\")   # (name, subject) 변수를 필요로 합니다."
      ],
      "execution_count": null,
      "outputs": []
    },
    {
      "cell_type": "code",
      "source": [
        "me = Student(\"김민규\", \"딥러닝프레임워크\")"
      ],
      "metadata": {
        "id": "T6fPstA8pi5z"
      },
      "execution_count": null,
      "outputs": []
    },
    {
      "cell_type": "markdown",
      "metadata": {
        "id": "qjwD6iv4n23m"
      },
      "source": [
        "####**인스턴스 속성 접근**\n",
        "\n",
        "위에서 생성한 인스턴스의 속성들 name, subject, level에 접근하고 출력합니다. \n",
        "```\n",
        "me.name, me.subject, me.level\n",
        "```"
      ]
    },
    {
      "cell_type": "code",
      "metadata": {
        "id": "7tuZarTSn23m",
        "colab": {
          "base_uri": "https://localhost:8080/"
        },
        "outputId": "daa61b77-a590-49d7-957b-ab920803d23b"
      },
      "source": [
        "me.name, me.subject, me.level"
      ],
      "execution_count": null,
      "outputs": [
        {
          "output_type": "execute_result",
          "data": {
            "text/plain": [
              "('김민규', '딥러닝프레임워크', 0)"
            ]
          },
          "metadata": {},
          "execution_count": 11
        }
      ]
    },
    {
      "cell_type": "markdown",
      "metadata": {
        "id": "p0QGxnV3n23m"
      },
      "source": [
        "###**(4) 클래스 메서드**\n",
        "\n",
        "class 안에서 메서드를 추가 할 수 있습니다. Student 클래스 안에 인사를 출력하는 `introduce` 메서드를 추가해보겠습니다. \n",
        "클래스 안에 메서드를 만들 때는 기본적으로 메서드 안에 `self`가 들어가야 합니다. \n",
        "\n",
        "```\n",
        "# 클래스 생성\n",
        "class Student():\n",
        "    def __init__(self, name, subject):\n",
        "      self.name = name\n",
        "      self.subject = subject\n",
        "      self.level = 0\n",
        "\n",
        "    def introduce(self):\n",
        "      print(f\"안녕하세요. {self.subject} 수업을 듣는 {self.name} 입니다.\")\n",
        "\n",
        "# 인스턴스 생성\n",
        "me = Student(\"김모모\", \"기초반\")\n",
        "\n",
        "# 메서드 실행\n",
        "me.introduce()\n",
        "```"
      ]
    },
    {
      "cell_type": "markdown",
      "metadata": {
        "id": "7st1KEFjn23m"
      },
      "source": [
        "* 클래스 생성"
      ]
    },
    {
      "cell_type": "code",
      "metadata": {
        "id": "9X7zV8mln23m",
        "colab": {
          "base_uri": "https://localhost:8080/"
        },
        "outputId": "b660ef72-f00c-4100-9c59-cdac4be3c999"
      },
      "source": [
        "class Student():\n",
        "    def __init__(self, name, subject):\n",
        "        self.name = name\n",
        "        self.subject = subject\n",
        "        self.level = 0\n",
        "\n",
        "    def introduce(self):\n",
        "        print(f\"안녕하세요. {self.subject} 수업을 듣는 {self.name}입니다.\")\n"
      ],
      "execution_count": null,
      "outputs": [
        {
          "output_type": "stream",
          "name": "stdout",
          "text": [
            "안녕하세요. 기초반 수업을 듣는 김모모입니다.\n"
          ]
        }
      ]
    },
    {
      "cell_type": "markdown",
      "metadata": {
        "id": "ESSI1NKon23m"
      },
      "source": [
        "* 인스턴스 생성"
      ]
    },
    {
      "cell_type": "code",
      "metadata": {
        "id": "zYkKsuupn23m"
      },
      "source": [
        "me = Student(\"김민규\", \"기초반\")"
      ],
      "execution_count": null,
      "outputs": []
    },
    {
      "cell_type": "markdown",
      "metadata": {
        "id": "jKNKPdlon23m"
      },
      "source": [
        "`introduce()` 메서드 실행"
      ]
    },
    {
      "cell_type": "code",
      "source": [
        "me.introduce()"
      ],
      "metadata": {
        "id": "aR_cJ1LTnpHk",
        "colab": {
          "base_uri": "https://localhost:8080/"
        },
        "outputId": "0c0c1f72-eb4f-4008-8662-808cea3da8b9"
      },
      "execution_count": null,
      "outputs": [
        {
          "output_type": "stream",
          "name": "stdout",
          "text": [
            "안녕하세요. 기초반 수업을 듣는 김민규입니다.\n"
          ]
        }
      ]
    },
    {
      "cell_type": "markdown",
      "source": [
        "#### **또다른 인스턴스 생성**\n",
        "\n",
        "앞서 클래스 자체는 틀이고 인스턴스는 그 틀에서 찍어낸 함수와 같다 했습니다. `me`라는 인스턴스 말고 `you`라는 인스턴스를 생성해 봅시다. \n",
        "\n",
        "* 인스턴스 생성\n",
        "\n",
        "```\n",
        "you = Student(\"김학생\", \"수반\")\n",
        "\n",
        "```"
      ],
      "metadata": {
        "id": "b-Sq8YL-s8Oy"
      }
    },
    {
      "cell_type": "code",
      "source": [
        "yoy = Student(\"김학생\",\"수반\")"
      ],
      "metadata": {
        "id": "-lnmBLFRbFbl"
      },
      "execution_count": null,
      "outputs": []
    },
    {
      "cell_type": "markdown",
      "source": [
        "* introduce() 메서드 실행\n",
        "\n",
        "```\n",
        "yoy.introuduce()\n",
        "```"
      ],
      "metadata": {
        "id": "2q47vsMfvTYM"
      }
    },
    {
      "cell_type": "code",
      "source": [
        "yoy.introduce()"
      ],
      "metadata": {
        "id": "XogKQrBHvQ_-",
        "colab": {
          "base_uri": "https://localhost:8080/"
        },
        "outputId": "89be42be-a157-4f10-a77a-22937def9401"
      },
      "execution_count": null,
      "outputs": [
        {
          "output_type": "stream",
          "name": "stdout",
          "text": [
            "안녕하세요. 수반 수업을 듣는 김학생입니다.\n"
          ]
        }
      ]
    },
    {
      "cell_type": "code",
      "source": [
        "''.join() # ''도 인스턴스 중 하나인 것 입니다."
      ],
      "metadata": {
        "id": "tvpEEpKDrPx5"
      },
      "execution_count": null,
      "outputs": []
    },
    {
      "cell_type": "markdown",
      "source": [
        "#### **메서드에 입력변수 추가하기**\n",
        "\n",
        "이번에는 클래스에 레벨을 올리는 `levelup` 메서드를 추가해봅시다. 이 메서드에는 레벨을 얼만큼 올릴지를 인풋으로 받을 겁니다. \n",
        "\n",
        "```\n",
        "# 클래스 생성\n",
        "class Student():\n",
        "    def __init__(self, name, subject):\n",
        "      self.name = name\n",
        "      self.subject = subject\n",
        "      self.level = 0\n",
        "\n",
        "    def introduce(self):\n",
        "      print(f\"안녕하세요. {self.subject} 수업을 듣는 {self.name} 입니다.\")\n",
        "\n",
        "    def levelup(self, l)\n",
        "      level_before = self.level\n",
        "      self.level = self.level+l\n",
        "      print(f\"{level_before}에서 {self.level}로 레벨업 했습니다.\")\n",
        "\n",
        "# 인스턴스 생성\n",
        "me = Student(\"김모모\", \"기초반\")\n",
        "\n",
        "# 메서드 실행\n",
        "me.introduce()\n",
        "\n",
        "```"
      ],
      "metadata": {
        "id": "J1CXlJND_9tJ"
      }
    },
    {
      "cell_type": "markdown",
      "metadata": {
        "id": "CsYlr8M-A9Sr"
      },
      "source": [
        "* 클래스 생성"
      ]
    },
    {
      "cell_type": "code",
      "metadata": {
        "id": "6L8J9AwLA9Ss"
      },
      "source": [
        "class Student():\n",
        "    def __init__(self, name, subject):\n",
        "        self.name = name\n",
        "        self.subject = subject\n",
        "        self.level = 0\n",
        "\n",
        "    def introduce(self):\n",
        "        print(f\"안녕하세요. {self.subject} 수업을 듣는 {self.name} 입니다.\")\n",
        "\n",
        "    def levelup(self, l):\n",
        "        self.level = self.level+l\n",
        "        print(f\"레벨이 {l}만큼 올랐습니다.\")"
      ],
      "execution_count": 1,
      "outputs": []
    },
    {
      "cell_type": "markdown",
      "metadata": {
        "id": "5NI7YvkWA9Ss"
      },
      "source": [
        "* 인스턴스 생성"
      ]
    },
    {
      "cell_type": "code",
      "metadata": {
        "id": "KLPvCX4YA9Ss"
      },
      "source": [
        "me = Student(\"김민규\", \"프레임워크\")"
      ],
      "execution_count": 2,
      "outputs": []
    },
    {
      "cell_type": "markdown",
      "metadata": {
        "id": "areIEkhtA9Ss"
      },
      "source": [
        "* `levelup()` 메서드 실행\n",
        "\n",
        "`levelup` 메서드는 `level_step` 이라는 변수를 필요로 합니다. 따라서 몇레벨을 업할 것인지 적어줍니다."
      ]
    },
    {
      "cell_type": "code",
      "source": [
        "me.levelup(10)"
      ],
      "metadata": {
        "id": "eFB8RWhTA9Ss",
        "colab": {
          "base_uri": "https://localhost:8080/"
        },
        "outputId": "5a687d6e-eebb-49a5-8dcf-f799a54f8e5e"
      },
      "execution_count": 3,
      "outputs": [
        {
          "output_type": "stream",
          "name": "stdout",
          "text": [
            "레벨이 10만큼 올랐습니다.\n"
          ]
        }
      ]
    },
    {
      "cell_type": "markdown",
      "source": [
        "* `self.level` 값 확인\n",
        "\n",
        "level 초기 값을 0으로 설정했습니다. levelup 메서드를 이용하여 level 이라는 속성값을 변경하였으니 이를 확인해 봅시다."
      ],
      "metadata": {
        "id": "Wo9d9vi6EIP9"
      }
    },
    {
      "cell_type": "code",
      "source": [
        "print(self.level())"
      ],
      "metadata": {
        "id": "VdIrwqXNvllc",
        "colab": {
          "base_uri": "https://localhost:8080/",
          "height": 174
        },
        "outputId": "80f9cadb-862b-4eab-e34f-b79552e0104c"
      },
      "execution_count": null,
      "outputs": [
        {
          "output_type": "error",
          "ename": "NameError",
          "evalue": "ignored",
          "traceback": [
            "\u001b[0;31m---------------------------------------------------------------------------\u001b[0m",
            "\u001b[0;31mNameError\u001b[0m                                 Traceback (most recent call last)",
            "\u001b[0;32m<ipython-input-77-229c5e5bc0c8>\u001b[0m in \u001b[0;36m<module>\u001b[0;34m()\u001b[0m\n\u001b[0;32m----> 1\u001b[0;31m \u001b[0mprint\u001b[0m\u001b[0;34m(\u001b[0m\u001b[0mself\u001b[0m\u001b[0;34m.\u001b[0m\u001b[0mlevel\u001b[0m\u001b[0;34m(\u001b[0m\u001b[0;34m)\u001b[0m\u001b[0;34m)\u001b[0m\u001b[0;34m\u001b[0m\u001b[0;34m\u001b[0m\u001b[0m\n\u001b[0m",
            "\u001b[0;31mNameError\u001b[0m: name 'self' is not defined"
          ]
        }
      ]
    },
    {
      "cell_type": "code",
      "source": [
        "import random\n",
        "\n",
        "class 인생게임():\n",
        "    def __init__(self,nickname):\n",
        "        self.nickname = nickname\n",
        "        self.money = 100000\n",
        "        self.age = 20\n",
        "        self.skill = {'요리':0, '청소':0, '수학':1}\n",
        "\n",
        "    def lotto(self, num):\n",
        "        self.num = int(num)\n",
        "        self.lotto_cost = 2000\n",
        "        print(f\"로또를 {self.num}개 구매하여, {self.lotto_cost}를 사용하였고,{self.money-(num*self.lotto_cost)}가 남았습니다.\")\n",
        "        # 로또 3개 뽑고\n",
        "        # 돈 -2000\n",
        "\n",
        "    # def 수학학원가서 공부하면 레벨 업\n",
        "    def math_academy(self,l):\n",
        "        self.skill['수학'] += l\n",
        "        print(f\"수학학원에서 열심히 공부하여, 수학 스킬이 {self.skill}만큼 올랐습니다.\")\n",
        "\n",
        "    # def 알바해서 돈 벌고\n",
        "    def earn_money(self,j):\n",
        "        self.money = 100000+j\n",
        "        print(f\"아르바이트를 통해, 통장잔고를 {self.money}많큼 늘렸습니다.\")\n",
        "\n",
        "    # def 스킬등록\n",
        "    def registering_skill(self):\n",
        "        get_skill = input(\"배우고 싶은 스킬을 입력해주세요.\")\n",
        "        print(self.skill, get_skill)\n",
        "        self.skill[get_skill]=\"성장가능성 높음\"\n",
        "        print(self.skill)\n"
      ],
      "metadata": {
        "id": "-16FR2zYtR90"
      },
      "execution_count": 36,
      "outputs": []
    },
    {
      "cell_type": "code",
      "source": [
        "me = 인생게임(\"김민규\")"
      ],
      "metadata": {
        "id": "jwbBvbgBx_PM"
      },
      "execution_count": 37,
      "outputs": []
    },
    {
      "cell_type": "code",
      "source": [
        "me.lotto(3)"
      ],
      "metadata": {
        "colab": {
          "base_uri": "https://localhost:8080/"
        },
        "id": "-WD_q_FHy2Fn",
        "outputId": "24afafb9-5b85-4892-8c1d-ba7ab7008a87"
      },
      "execution_count": 38,
      "outputs": [
        {
          "output_type": "stream",
          "name": "stdout",
          "text": [
            "로또를 3개 구매하여, 2000를 사용하였고,94000가 남았습니다.\n"
          ]
        }
      ]
    },
    {
      "cell_type": "code",
      "source": [
        "me.math_academy(2)"
      ],
      "metadata": {
        "colab": {
          "base_uri": "https://localhost:8080/"
        },
        "id": "KJSMO8LXy2JV",
        "outputId": "c5a46ea4-ae28-48db-ef92-abe133288f7e"
      },
      "execution_count": 39,
      "outputs": [
        {
          "output_type": "stream",
          "name": "stdout",
          "text": [
            "수학학원에서 열심히 공부하여, 수학 스킬이 {'요리': 0, '청소': 0, '수학': 3}만큼 올랐습니다.\n"
          ]
        }
      ]
    },
    {
      "cell_type": "code",
      "source": [
        "me.earn_money(200000)"
      ],
      "metadata": {
        "colab": {
          "base_uri": "https://localhost:8080/"
        },
        "id": "9bYm-M4Gy2O1",
        "outputId": "f5d248d9-cc38-404b-8783-6395b7147003"
      },
      "execution_count": 40,
      "outputs": [
        {
          "output_type": "stream",
          "name": "stdout",
          "text": [
            "아르바이트를 통해, 통장잔고를 300000많큼 늘렸습니다.\n"
          ]
        }
      ]
    },
    {
      "cell_type": "code",
      "source": [
        "me.registering_skill()"
      ],
      "metadata": {
        "colab": {
          "base_uri": "https://localhost:8080/"
        },
        "id": "vAVwcF2J4TBP",
        "outputId": "48788c5f-e073-4200-aa4b-c004022e9216"
      },
      "execution_count": 41,
      "outputs": [
        {
          "output_type": "stream",
          "name": "stdout",
          "text": [
            "배우고 싶은 스킬을 입력해주세요.유도\n",
            "{'요리': 0, '청소': 0, '수학': 3} 유도\n",
            "{'요리': 0, '청소': 0, '수학': 3, '유도': '성장가능성 높음'}\n"
          ]
        }
      ]
    },
    {
      "cell_type": "code",
      "source": [
        "# 인스턴스 생성\n",
        "me = Student(\"김모모\", \"기초반\")\n",
        "\n",
        "# 메서드 실행\n",
        "me.introduce()"
      ],
      "metadata": {
        "colab": {
          "base_uri": "https://localhost:8080/"
        },
        "id": "UEtHdCeqwIlH",
        "outputId": "f0b5167c-6128-4923-b445-07090201e6e0"
      },
      "execution_count": null,
      "outputs": [
        {
          "output_type": "stream",
          "name": "stdout",
          "text": [
            "1\n"
          ]
        }
      ]
    },
    {
      "cell_type": "code",
      "source": [
        "skill = {'요리':0, '청소':0, '수학':1}\n",
        "skill[\"국어\"]=2\n",
        "print(skill)"
      ],
      "metadata": {
        "colab": {
          "base_uri": "https://localhost:8080/"
        },
        "id": "t3KVgrwz95On",
        "outputId": "62383d1c-642e-47ae-8e62-16fb23293556"
      },
      "execution_count": 10,
      "outputs": [
        {
          "output_type": "stream",
          "name": "stdout",
          "text": [
            "{'요리': 0, '청소': 0, '수학': 1, '국어': 2}\n"
          ]
        }
      ]
    },
    {
      "cell_type": "code",
      "source": [
        "  def registering_skill(self,x,y):\n",
        "        self.skill[x] = y\n",
        "        self.new_skill = self.skill\n",
        "        print(f\"{new_skill}이 생성되었습니다.\")"
      ],
      "metadata": {
        "id": "X-mmxJ4_-iL6"
      },
      "execution_count": null,
      "outputs": []
    },
    {
      "cell_type": "code",
      "source": [
        "import random\n",
        "\n",
        "def __init__(self,)"
      ],
      "metadata": {
        "id": "8C0vQ_g9-liK"
      },
      "execution_count": null,
      "outputs": []
    }
  ]
}