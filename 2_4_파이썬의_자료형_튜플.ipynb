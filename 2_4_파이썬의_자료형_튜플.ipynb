{
  "nbformat": 4,
  "nbformat_minor": 0,
  "metadata": {
    "colab": {
      "name": "2-4.파이썬의 자료형_튜플.ipynb",
      "provenance": [],
      "collapsed_sections": [],
      "include_colab_link": true
    },
    "kernelspec": {
      "name": "python3",
      "display_name": "Python 3"
    },
    "language_info": {
      "name": "python"
    }
  },
  "cells": [
    {
      "cell_type": "markdown",
      "metadata": {
        "id": "view-in-github",
        "colab_type": "text"
      },
      "source": [
        "<a href=\"https://colab.research.google.com/github/Mifekmk/SkillTreePython/blob/main/2_4_%ED%8C%8C%EC%9D%B4%EC%8D%AC%EC%9D%98_%EC%9E%90%EB%A3%8C%ED%98%95_%ED%8A%9C%ED%94%8C.ipynb\" target=\"_parent\"><img src=\"https://colab.research.google.com/assets/colab-badge.svg\" alt=\"Open In Colab\"/></a>"
      ]
    },
    {
      "cell_type": "markdown",
      "source": [
        "# 2-4.파이썬의 자료형:튜플\n",
        "---\n",
        "* 날짜: 2022-03-30\n",
        "* 이름: 김민규"
      ],
      "metadata": {
        "id": "kB5IciXEm6o4"
      }
    },
    {
      "cell_type": "markdown",
      "source": [
        "## 개념정리\n",
        "---\n",
        "\n",
        "튜플(tuple) 은 리스트와 유사합니다. 하지만 \n",
        "**'수정할 수 없다는 특징'**을 가지고 있습니다. 따라서 어떤 군집 값을 마치 변수처럼 변환을 계속하고 싶다면 리스트를, 상수처럼 고정하고 싶다면 튜플을 쓰는게 좋습니다."
      ],
      "metadata": {
        "id": "4iN8NFzHRJ2D"
      }
    },
    {
      "cell_type": "markdown",
      "source": [
        "### (1) 생성\n",
        "\n",
        "`( )` 기호를 통해 튜플을 생성할 수 있습니다.\n",
        "\n",
        "```\n",
        "a = (1,2,3)\n",
        "print(a)\n",
        "type(a)\n",
        "```\n"
      ],
      "metadata": {
        "id": "MAM8MDnfw68b"
      }
    },
    {
      "cell_type": "code",
      "source": [
        "a = (1,2,3)\n",
        "print(a)\n",
        "type(a)"
      ],
      "metadata": {
        "id": "M45u3wo6zrSN",
        "colab": {
          "base_uri": "https://localhost:8080/"
        },
        "outputId": "6ae07fae-1dd8-4c0d-d84e-7af10e71bd8d"
      },
      "execution_count": null,
      "outputs": [
        {
          "output_type": "stream",
          "name": "stdout",
          "text": [
            "(1, 2, 3)\n"
          ]
        },
        {
          "output_type": "execute_result",
          "data": {
            "text/plain": [
              "tuple"
            ]
          },
          "metadata": {},
          "execution_count": 6
        }
      ]
    },
    {
      "cell_type": "markdown",
      "source": [
        "####  **튜플의 요소**\n",
        "\n",
        "리스트와 마찬가지로 튜플의 요소 또한 문자열, 리스트, 정수 등 다양한 요소들을 포함할 수 있습니다. 튜플 역시 요소들을 통일 하지 않아도 유효합니다.\n",
        "\n",
        "```\n",
        "a = (1, \"a\", True, [1,2,3])\n",
        "print(a)\n",
        "```\n"
      ],
      "metadata": {
        "id": "NvswO22Kzs62"
      }
    },
    {
      "cell_type": "code",
      "source": [
        "a = (1,\"a\",True, [1,2,3])\n",
        "print(a)"
      ],
      "metadata": {
        "id": "j6HCOsxKzuSG",
        "colab": {
          "base_uri": "https://localhost:8080/"
        },
        "outputId": "f36529a4-8719-4099-d473-368fdb7cf931"
      },
      "execution_count": null,
      "outputs": [
        {
          "output_type": "stream",
          "name": "stdout",
          "text": [
            "(1, 'a', True, [1, 2, 3])\n"
          ]
        }
      ]
    },
    {
      "cell_type": "code",
      "source": [
        "a = 2\n",
        "b = [1,2,3]\n",
        "a,b     # ','를 붙히면 tuple 형식이 됩니다."
      ],
      "metadata": {
        "colab": {
          "base_uri": "https://localhost:8080/"
        },
        "id": "oNTjW_uDotXi",
        "outputId": "06a7171b-c85f-4543-d258-b27b552a3017"
      },
      "execution_count": null,
      "outputs": [
        {
          "output_type": "execute_result",
          "data": {
            "text/plain": [
              "(2, [1, 2, 3])"
            ]
          },
          "metadata": {},
          "execution_count": 8
        }
      ]
    },
    {
      "cell_type": "markdown",
      "source": [
        "### (2) 수정과 삭제\n",
        "\n",
        "리스트와 달리 튜플은 수정과 삭제가 불가능 합니다. 에러 메시지를 확인해 봅시다."
      ],
      "metadata": {
        "id": "dDaNfov4zv6t"
      }
    },
    {
      "cell_type": "markdown",
      "source": [
        "\n",
        "#### **수정**\n",
        "\n",
        "```\n",
        "a = (1,2,3,4)\n",
        "a[0] = \"a\"\n",
        "```\n"
      ],
      "metadata": {
        "id": "BlbuStFxzyad"
      }
    },
    {
      "cell_type": "code",
      "source": [
        "a = (1,2,3,4)\n",
        "a[0] =\"a\"   # 수정이나 삭제가 불가능합니다."
      ],
      "metadata": {
        "id": "GXaM8hugzwmw",
        "colab": {
          "base_uri": "https://localhost:8080/",
          "height": 192
        },
        "outputId": "6ae517c9-938d-4e41-ac36-8f13e1443f51"
      },
      "execution_count": null,
      "outputs": [
        {
          "output_type": "error",
          "ename": "TypeError",
          "evalue": "ignored",
          "traceback": [
            "\u001b[0;31m---------------------------------------------------------------------------\u001b[0m",
            "\u001b[0;31mTypeError\u001b[0m                                 Traceback (most recent call last)",
            "\u001b[0;32m<ipython-input-10-07436d879e09>\u001b[0m in \u001b[0;36m<module>\u001b[0;34m()\u001b[0m\n\u001b[1;32m      1\u001b[0m \u001b[0ma\u001b[0m \u001b[0;34m=\u001b[0m \u001b[0;34m(\u001b[0m\u001b[0;36m1\u001b[0m\u001b[0;34m,\u001b[0m\u001b[0;36m2\u001b[0m\u001b[0;34m,\u001b[0m\u001b[0;36m3\u001b[0m\u001b[0;34m,\u001b[0m\u001b[0;36m4\u001b[0m\u001b[0;34m)\u001b[0m\u001b[0;34m\u001b[0m\u001b[0;34m\u001b[0m\u001b[0m\n\u001b[0;32m----> 2\u001b[0;31m \u001b[0ma\u001b[0m\u001b[0;34m[\u001b[0m\u001b[0;36m0\u001b[0m\u001b[0;34m]\u001b[0m \u001b[0;34m=\u001b[0m\u001b[0;34m\"a\"\u001b[0m   \u001b[0;31m# 수정이나 삭제가 불가능합니다.\u001b[0m\u001b[0;34m\u001b[0m\u001b[0;34m\u001b[0m\u001b[0m\n\u001b[0m",
            "\u001b[0;31mTypeError\u001b[0m: 'tuple' object does not support item assignment"
          ]
        }
      ]
    },
    {
      "cell_type": "markdown",
      "source": [
        "#### **삭제**\n",
        "\n",
        "```\n",
        "a = (1,2,3,4)\n",
        "del a[0]\n",
        "```"
      ],
      "metadata": {
        "id": "dMzkZR9iz2VZ"
      }
    },
    {
      "cell_type": "code",
      "source": [
        "a = (1,2,3,4)\n",
        "del a[0]    # 수정이나 삭제가 불가능합니다."
      ],
      "metadata": {
        "id": "Hun7vYCfz0Ow",
        "colab": {
          "base_uri": "https://localhost:8080/",
          "height": 192
        },
        "outputId": "8f046ab4-83a7-403a-ed53-762494a8e9ec"
      },
      "execution_count": null,
      "outputs": [
        {
          "output_type": "error",
          "ename": "TypeError",
          "evalue": "ignored",
          "traceback": [
            "\u001b[0;31m---------------------------------------------------------------------------\u001b[0m",
            "\u001b[0;31mTypeError\u001b[0m                                 Traceback (most recent call last)",
            "\u001b[0;32m<ipython-input-11-4fe370da9a28>\u001b[0m in \u001b[0;36m<module>\u001b[0;34m()\u001b[0m\n\u001b[1;32m      1\u001b[0m \u001b[0ma\u001b[0m \u001b[0;34m=\u001b[0m \u001b[0;34m(\u001b[0m\u001b[0;36m1\u001b[0m\u001b[0;34m,\u001b[0m\u001b[0;36m2\u001b[0m\u001b[0;34m,\u001b[0m\u001b[0;36m3\u001b[0m\u001b[0;34m,\u001b[0m\u001b[0;36m4\u001b[0m\u001b[0;34m)\u001b[0m\u001b[0;34m\u001b[0m\u001b[0;34m\u001b[0m\u001b[0m\n\u001b[0;32m----> 2\u001b[0;31m \u001b[0;32mdel\u001b[0m \u001b[0ma\u001b[0m\u001b[0;34m[\u001b[0m\u001b[0;36m0\u001b[0m\u001b[0;34m]\u001b[0m\u001b[0;34m\u001b[0m\u001b[0;34m\u001b[0m\u001b[0m\n\u001b[0m",
            "\u001b[0;31mTypeError\u001b[0m: 'tuple' object doesn't support item deletion"
          ]
        }
      ]
    },
    {
      "cell_type": "markdown",
      "source": [
        "#### **우회해서 수정하기**\n",
        "\n",
        "그래도 꼭 수정해야 한다면 방법은 리스트로 변환 후 수정과 삭제를 하는 것입니다. 수정이나 삭제 후에는 또다시 튜플로 변환을 해주어야 합니다.\n",
        "\n",
        "```\n",
        "a = (1,2,3,4)\n",
        "a = list(a)\n",
        "a[0] = 0\n",
        "a = tuple(a)\n",
        "print(a)\n",
        "```"
      ],
      "metadata": {
        "id": "g5sGGimlz5O2"
      }
    },
    {
      "cell_type": "code",
      "source": [
        "a = (1,2,3,4)\n",
        "a = list(a)\n",
        "a[0] = 0\n",
        "a =tuple(a)\n",
        "print(a)"
      ],
      "metadata": {
        "id": "QovRb6_1z31w",
        "colab": {
          "base_uri": "https://localhost:8080/"
        },
        "outputId": "88ab059d-e966-4b28-b03b-28fd0b19cef4"
      },
      "execution_count": null,
      "outputs": [
        {
          "output_type": "stream",
          "name": "stdout",
          "text": [
            "(0, 2, 3, 4)\n"
          ]
        }
      ]
    },
    {
      "cell_type": "code",
      "source": [
        "a =  (1,2,3,4)\n",
        "a = list(a)\n",
        "print(a)"
      ],
      "metadata": {
        "colab": {
          "base_uri": "https://localhost:8080/"
        },
        "id": "6rOu1vCAqZAF",
        "outputId": "e02d6791-acd8-421e-bcf4-5c7c51f31cf4"
      },
      "execution_count": null,
      "outputs": [
        {
          "output_type": "stream",
          "name": "stdout",
          "text": [
            "[1, 2, 3, 4]\n"
          ]
        }
      ]
    },
    {
      "cell_type": "markdown",
      "source": [
        "### (3) 인덱싱과 슬라이싱\n",
        "\n",
        "튜플에서도 인덱싱과 슬라이싱이 가능합니다. 반환되는 값은 튜플임을 유의합니다.\n",
        "\n",
        "```\n",
        "a = (1,2,3,4,5)\n",
        "print(a[0]) # 인덱싱\n",
        "print(a[:2]) # 슬라이싱\n",
        "```"
      ],
      "metadata": {
        "id": "9Umb8A55z9I7"
      }
    },
    {
      "cell_type": "code",
      "source": [
        "a = (1,2,3,4,5)\n",
        "print(a[0])\n",
        "print(a[:2])"
      ],
      "metadata": {
        "id": "LHaifq2Zz7jz",
        "colab": {
          "base_uri": "https://localhost:8080/"
        },
        "outputId": "739ae628-1731-439c-b6e5-4ddcefbcdd59"
      },
      "execution_count": null,
      "outputs": [
        {
          "output_type": "stream",
          "name": "stdout",
          "text": [
            "1\n",
            "(1, 2)\n"
          ]
        }
      ]
    },
    {
      "cell_type": "code",
      "source": [
        ""
      ],
      "metadata": {
        "id": "7gUJ3I-Dq-UF"
      },
      "execution_count": null,
      "outputs": []
    },
    {
      "cell_type": "markdown",
      "source": [
        "### (4) 튜플의 연산\n",
        "\n",
        "튜플의 연산은 더하기 `+` 와 곱하기 `*` 만 사용할 수 있습니다. 이 때 더하기는 튜플끼리의 덧셈만 가능하며, 곱하기는 튜플와 정수값의 곱만 가능함을 주의해야 합니다. 튜플끼리의 덧셈 결과는 두 튜플를 이어 붙인 튜플가 되고 튜플과 정수의 곱은 튜플의 정수크기만큼 이어붙인 튜플이 됩니다.\n"
      ],
      "metadata": {
        "id": "ZzTpNgfb0AFa"
      }
    },
    {
      "cell_type": "markdown",
      "source": [
        "#### **더하기**\n",
        "\n",
        "```\n",
        "a = (1,1,1,1,1)\n",
        "b = (2,2)\n",
        "print(a+b)\n",
        "```\n"
      ],
      "metadata": {
        "id": "1HMFTBrP0Bae"
      }
    },
    {
      "cell_type": "code",
      "source": [
        ""
      ],
      "metadata": {
        "id": "j50B81hc0Dp9"
      },
      "execution_count": null,
      "outputs": []
    },
    {
      "cell_type": "markdown",
      "source": [
        "#### **곱하기**\n",
        "\n",
        "```\n",
        "a = (1,1,1,1,1)\n",
        "b = 2\n",
        "print(a*b)\n",
        "```"
      ],
      "metadata": {
        "id": "I9JqXuzJ0Dvx"
      }
    },
    {
      "cell_type": "code",
      "source": [
        ""
      ],
      "metadata": {
        "id": "QmsJ1nWQz-4j"
      },
      "execution_count": null,
      "outputs": []
    },
    {
      "cell_type": "markdown",
      "source": [
        "### (5) 관련 메소드\n",
        "\n",
        "지난번 문자열 메소드와 마찬가지로 리스트에도 다양한 내장함수 및 메소드가 존재합니다. \n",
        "\n",
        "|| 종류|\n",
        "|--|--|\n",
        "|내장함수| `len()`, `max()`, `min()`, `sum()`\n",
        "|메서드|  `.count()`, `.index()`, `.sort()`\n"
      ],
      "metadata": {
        "id": "3ehCUpO50Kii"
      }
    },
    {
      "cell_type": "markdown",
      "source": [
        "####  **내장함수**\n",
        "\n",
        "* `len()`: 길이를 구합니다.\n",
        "* `max()`: 최대값을 구합니다.\n",
        "* `min()`: 최소값을 구합니다.\n",
        "* `sum()`: 모든값을 더합니다.\n",
        "\n",
        "```\n",
        "a = (1,2,3,4)\n",
        "print(len(a))\n",
        "print(max(a))\n",
        "print(min(a))\n",
        "print(sum(a))\n",
        "```"
      ],
      "metadata": {
        "id": "voHfC6oN0M7z"
      }
    },
    {
      "cell_type": "code",
      "source": [
        ""
      ],
      "metadata": {
        "id": "IhhzAce50IfM"
      },
      "execution_count": null,
      "outputs": []
    },
    {
      "cell_type": "markdown",
      "source": [
        "#### **기타 메서드**\n",
        "\n",
        "* `count(obj)` : `obj` 개수 카운트\n",
        "*  `index(obj)` : `obj` 위치 인덱싱 (중복시 앞순서부터)\n",
        "\n",
        "```\n",
        "a = (2,2,1,3,3,3)\n",
        "print(a.count(2))\n",
        "print(a.index(2))\n",
        "```"
      ],
      "metadata": {
        "id": "oVCfiNf10Q2a"
      }
    },
    {
      "cell_type": "code",
      "source": [
        ""
      ],
      "metadata": {
        "id": "cvqms6iH0PoF"
      },
      "execution_count": null,
      "outputs": []
    },
    {
      "cell_type": "markdown",
      "source": [
        "## 문제풀이\n",
        "---"
      ],
      "metadata": {
        "id": "wbcmVb3h00Jo"
      }
    },
    {
      "cell_type": "markdown",
      "source": [
        "\n",
        "\n",
        "**예제 01**\n",
        "\n",
        "과일메뉴가 다음과 같습니다. 튜플로 작성하세요\n",
        "\n",
        "|과일|\n",
        "|--|\n",
        "사과\n",
        "바나나\n",
        "감자\n",
        "메론\n",
        "복숭아\n",
        "딸기"
      ],
      "metadata": {
        "id": "4PX2kZmg0WWl"
      }
    },
    {
      "cell_type": "code",
      "source": [
        "fruit_menu = ('사과', '바나나', '감자', '메론', '복숭아', '딸기')\n",
        "print(fruit_menu)"
      ],
      "metadata": {
        "id": "HQQytPl10XPQ",
        "colab": {
          "base_uri": "https://localhost:8080/"
        },
        "outputId": "ffa34140-da8b-4cf7-adf3-1d15902e4095"
      },
      "execution_count": 16,
      "outputs": [
        {
          "output_type": "stream",
          "name": "stdout",
          "text": [
            "('사과', '바나나', '감자', '메론', '복숭아', '딸기')\n"
          ]
        }
      ]
    },
    {
      "cell_type": "markdown",
      "source": [
        "**예제 02**\n",
        "\n",
        "위에서 만든 튜플에  \"포도\"를 추가하세요"
      ],
      "metadata": {
        "id": "SZmwFndu0YaG"
      }
    },
    {
      "cell_type": "code",
      "source": [
        "fruit_menu = ('사과', '바나나', '감자', '메론', '복숭아', '딸기')\n",
        "a = list(fruit_menu)\n",
        "a[-1] = \"포도\"\n",
        "a = tuple(a)\n",
        "print(a)"
      ],
      "metadata": {
        "id": "TFV-mjV30Yyl",
        "colab": {
          "base_uri": "https://localhost:8080/"
        },
        "outputId": "d5d6adee-f396-4069-9859-ed9c3a03e032"
      },
      "execution_count": 19,
      "outputs": [
        {
          "output_type": "stream",
          "name": "stdout",
          "text": [
            "('사과', '바나나', '감자', '메론', '복숭아', '포도')\n"
          ]
        }
      ]
    },
    {
      "cell_type": "markdown",
      "source": [
        "**예제 03**\n",
        "\n",
        "\"감자\"가 잘못 들어가 있었습니다. \"감자\"를 삭제하세요"
      ],
      "metadata": {
        "id": "w6eyKFn30Y4T"
      }
    },
    {
      "cell_type": "code",
      "source": [
        "fruit_menu = ('사과', '바나나', '감자', '메론', '복숭아', '딸기')\n",
        "a = list(fruit_menu)\n",
        "a.remove(\"감자\")\n",
        "a = tuple(a)\n",
        "print(a)"
      ],
      "metadata": {
        "id": "5G-XdEpq0Z8u",
        "colab": {
          "base_uri": "https://localhost:8080/"
        },
        "outputId": "5ce5fd97-eb52-4e1a-e2ae-ea60b3bd7784"
      },
      "execution_count": 21,
      "outputs": [
        {
          "output_type": "stream",
          "name": "stdout",
          "text": [
            "('사과', '바나나', '메론', '복숭아', '딸기')\n"
          ]
        }
      ]
    },
    {
      "cell_type": "markdown",
      "source": [
        "**예제 04**\n",
        "\n",
        "위에서 만든 튜플의 세번째부터 끝까지 요소만 들어있는 튜플을 새로 만드세요(슬라이싱 이용하세요)"
      ],
      "metadata": {
        "id": "04RazUkn0aCr"
      }
    },
    {
      "cell_type": "code",
      "source": [
        "fruit_menu = ('사과', '바나나', '감자', '메론', '복숭아', '딸기')\n",
        "a = list(fruit_menu)\n",
        "a.remove(\"감자\")\n",
        "b = a[3:]\n",
        "b = tuple(b)\n",
        "print(b)"
      ],
      "metadata": {
        "id": "bA5bwIh10bJW",
        "colab": {
          "base_uri": "https://localhost:8080/"
        },
        "outputId": "02a89a7f-8b26-459c-8efc-8d6fe31e04c3"
      },
      "execution_count": 23,
      "outputs": [
        {
          "output_type": "stream",
          "name": "stdout",
          "text": [
            "('복숭아', '딸기')\n"
          ]
        }
      ]
    },
    {
      "cell_type": "markdown",
      "source": [
        "**예제 05**\n",
        "\n",
        "빈 튜플을 생성하여 `t0` 으로 저장하세요"
      ],
      "metadata": {
        "id": "MyL6SbCc0bPH"
      }
    },
    {
      "cell_type": "code",
      "source": [
        "t0 = ()\n",
        "print(t0)"
      ],
      "metadata": {
        "id": "WHrbgYNH0cCg",
        "colab": {
          "base_uri": "https://localhost:8080/"
        },
        "outputId": "eee5e96d-8714-4e65-a0e4-5c168becea66"
      },
      "execution_count": 25,
      "outputs": [
        {
          "output_type": "stream",
          "name": "stdout",
          "text": [
            "()\n"
          ]
        }
      ]
    },
    {
      "cell_type": "markdown",
      "source": [
        "**예제 06**\n",
        "\n",
        "숫자 5가 들어있는 튜플을 생성하여 `t1` 으로 저장하세요\n"
      ],
      "metadata": {
        "id": "VB35MUrz0cHK"
      }
    },
    {
      "cell_type": "code",
      "source": [
        "t1 = (5)"
      ],
      "metadata": {
        "id": "ojmBEhVF0dkk"
      },
      "execution_count": 26,
      "outputs": []
    },
    {
      "cell_type": "markdown",
      "source": [
        "**예제 07**\n",
        "\n",
        "`t0` 에 8을 추가하세요"
      ],
      "metadata": {
        "id": "533FHCgK0doU"
      }
    },
    {
      "cell_type": "code",
      "source": [
        "a = list(t0)\n",
        "a.append(8)\n",
        "a = tuple(a)\n",
        "print(a)"
      ],
      "metadata": {
        "id": "UfgIfQSv0epL",
        "colab": {
          "base_uri": "https://localhost:8080/"
        },
        "outputId": "42359ccd-f6b8-41dd-ada8-da1cdab1e088"
      },
      "execution_count": 28,
      "outputs": [
        {
          "output_type": "stream",
          "name": "stdout",
          "text": [
            "(8,)\n"
          ]
        }
      ]
    },
    {
      "cell_type": "markdown",
      "source": [
        "**예제 08**\n",
        "\n",
        "\n",
        "`t0` 과 `t1` 을 합치세요"
      ],
      "metadata": {
        "id": "J06zOdwC0es7"
      }
    },
    {
      "cell_type": "code",
      "source": [
        "t0 = ()\n",
        "a = list(t0)\n",
        "a.append(8)\n",
        "print(a)\n",
        "\n",
        "t1 = (5,)\n",
        "b = list(t1)\n",
        "print(b)\n",
        "\n",
        "c = a+b\n",
        "print(c)"
      ],
      "metadata": {
        "id": "AIIs8TGB0ftK",
        "colab": {
          "base_uri": "https://localhost:8080/"
        },
        "outputId": "31e88a18-5e0a-4522-fcb4-3dc950ac9620"
      },
      "execution_count": 33,
      "outputs": [
        {
          "output_type": "stream",
          "name": "stdout",
          "text": [
            "[8]\n",
            "[5]\n",
            "[8, 5]\n"
          ]
        }
      ]
    },
    {
      "cell_type": "markdown",
      "source": [
        "**예제 09**\n",
        "\n",
        "\n",
        "아래와 같이 `a`가 바인딩 되어 있습니다. `a`의 타입을 확인해보고 이를 통해 알 수 있는 정보를 해설하세요\n",
        "\n",
        "\n",
        "```\n",
        "a = 1,2,3,4,5\n",
        "```"
      ],
      "metadata": {
        "id": "x8UI5uxO0fxO"
      }
    },
    {
      "cell_type": "code",
      "source": [
        "a = 1,2,3,4,5\n",
        "print(a, type(a))\n",
        "# 이를 통해 ','으로 연결이 되어있는 자료형 함수는 tuple임을 이해할 수 있습니다."
      ],
      "metadata": {
        "id": "JfkCQlpV0g2r",
        "colab": {
          "base_uri": "https://localhost:8080/"
        },
        "outputId": "9edba8d6-0c98-49a9-8d0d-ece6f1dd283a"
      },
      "execution_count": 35,
      "outputs": [
        {
          "output_type": "stream",
          "name": "stdout",
          "text": [
            "(1, 2, 3, 4, 5) <class 'tuple'>\n"
          ]
        }
      ]
    },
    {
      "cell_type": "markdown",
      "source": [
        "**예제 10**\n",
        "\n",
        "`b`의 평균을 계산하세요.\n",
        "\n",
        "\n",
        "```\n",
        "b = (1,2,3,4,5,10,20,30,40)\n",
        "```"
      ],
      "metadata": {
        "id": "t-KZLhAa0g6g"
      }
    },
    {
      "cell_type": "code",
      "source": [
        "b = (1,2,3,4,5,10,20,30,40)\n",
        "b = list(b)\n",
        "print(sum(b)/len(b))"
      ],
      "metadata": {
        "id": "0DiU-KYj0pdX",
        "colab": {
          "base_uri": "https://localhost:8080/"
        },
        "outputId": "c0c5b202-e6ae-4495-c3a4-73feb9a84322"
      },
      "execution_count": 36,
      "outputs": [
        {
          "output_type": "stream",
          "name": "stdout",
          "text": [
            "12.777777777777779\n"
          ]
        }
      ]
    }
  ]
}