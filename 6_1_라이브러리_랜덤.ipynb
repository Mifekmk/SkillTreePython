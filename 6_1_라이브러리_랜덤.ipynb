{
  "nbformat": 4,
  "nbformat_minor": 0,
  "metadata": {
    "colab": {
      "name": "6-1.라이브러리_랜덤.ipynb",
      "provenance": [],
      "collapsed_sections": [],
      "include_colab_link": true
    },
    "kernelspec": {
      "name": "python3",
      "display_name": "Python 3"
    },
    "language_info": {
      "name": "python"
    }
  },
  "cells": [
    {
      "cell_type": "markdown",
      "metadata": {
        "id": "view-in-github",
        "colab_type": "text"
      },
      "source": [
        "<a href=\"https://colab.research.google.com/github/Mifekmk/SkillTreePython/blob/main/6_1_%EB%9D%BC%EC%9D%B4%EB%B8%8C%EB%9F%AC%EB%A6%AC_%EB%9E%9C%EB%8D%A4.ipynb\" target=\"_parent\"><img src=\"https://colab.research.google.com/assets/colab-badge.svg\" alt=\"Open In Colab\"/></a>"
      ]
    },
    {
      "cell_type": "markdown",
      "metadata": {
        "id": "jgFAOz-Tw1VI"
      },
      "source": [
        "# 6-1.라이브러리: 랜덤\n",
        "---\n",
        "* 날짜: 2022-04-04\n",
        "* 이름: 김민규\n"
      ]
    },
    {
      "cell_type": "markdown",
      "metadata": {
        "id": "roC8A6Ro6THT"
      },
      "source": [
        "## 개념정리\n",
        "---\n",
        "\n",
        "전세계의 파이썬 사용자들이 유용한 라이브러리를 만들어 놓았습니다. 수많은 파이썬 라이브러리가 있지만 그중에서도 유용하고 기본적인 라이브러리를 알아보도록 하겠습니다. \n",
        "\n",
        "주사위를 던지거나 복권추첨 등 난수를 이용해서 코드를 짜야할 때가 종종 있습니다. 파이썬에서 난수를 만드는 방법을 알아보도록 하겠습니다. 난수를 만드는 모듈은 **random** 을 이용합니다. "
      ]
    },
    {
      "cell_type": "markdown",
      "metadata": {
        "id": "HjPXsM8C5ULZ"
      },
      "source": [
        "### **(1) 라이브러리 임포트(import)**\n",
        "\n",
        "아래와 같이 `random` 모듈을 `import` 해줍니다.\n",
        "\n",
        "```\n",
        "import random\n",
        "```\n"
      ]
    },
    {
      "cell_type": "code",
      "metadata": {
        "id": "9pxx7Zy53xFz"
      },
      "source": [
        "import random"
      ],
      "execution_count": null,
      "outputs": []
    },
    {
      "cell_type": "markdown",
      "source": [
        "### **(2) 기본 사용 : `time`**"
      ],
      "metadata": {
        "id": "4hBv297VxWGr"
      }
    },
    {
      "cell_type": "markdown",
      "metadata": {
        "id": "o4Y67BgLKmxO"
      },
      "source": [
        "#### **랜덤값 생성**\n",
        "\n"
      ]
    },
    {
      "cell_type": "markdown",
      "metadata": {
        "id": "zD6gfuVD3xwx"
      },
      "source": [
        "* `random.random` : 0과 1사이의 난수를 무작위로 생성합니다.\n",
        "\n",
        "```\n",
        "random.random()\n",
        "```\n",
        "\n"
      ]
    },
    {
      "cell_type": "code",
      "metadata": {
        "id": "OaowHk_83leh",
        "colab": {
          "base_uri": "https://localhost:8080/"
        },
        "outputId": "c14d3a59-d40d-470e-9cbc-b8e37b09765b"
      },
      "source": [
        "random.random()"
      ],
      "execution_count": null,
      "outputs": [
        {
          "output_type": "execute_result",
          "data": {
            "text/plain": [
              "0.04400945516393495"
            ]
          },
          "metadata": {},
          "execution_count": 10
        }
      ]
    },
    {
      "cell_type": "markdown",
      "metadata": {
        "id": "BOwMgkiC4RqB"
      },
      "source": [
        "* `random.randint`: 특정 범위 랜덤한 정수를 무작위로 생성합니다. (a이상 b 이하)\n",
        "\n",
        "```\n",
        "random.randint(a, b)\n",
        "```\n",
        "\n"
      ]
    },
    {
      "cell_type": "code",
      "metadata": {
        "id": "_zG33m-S4RqI",
        "colab": {
          "base_uri": "https://localhost:8080/"
        },
        "outputId": "720436fe-290a-4ef7-9e8f-795a83170571"
      },
      "source": [
        "random.randint(1,6)"
      ],
      "execution_count": null,
      "outputs": [
        {
          "output_type": "execute_result",
          "data": {
            "text/plain": [
              "3"
            ]
          },
          "metadata": {},
          "execution_count": 15
        }
      ]
    },
    {
      "cell_type": "markdown",
      "metadata": {
        "id": "CbpP-qatLAmI"
      },
      "source": [
        "#### **랜덤값 추출**"
      ]
    },
    {
      "cell_type": "markdown",
      "metadata": {
        "id": "uETLiTpC5OQd"
      },
      "source": [
        "* `random.choice`: 주어진 sequence 에서 랜덤으로 한개의 요소를 뽑습니다.\n",
        "\n",
        "```\n",
        "a = [1,2,3] # 리스트 a가 주어졌을 때 \n",
        "b = random.choice(a) # a의 요소 중 한개를 뽑아 b로 바인딩\n",
        "print(b)\n",
        "```\n",
        "\n"
      ]
    },
    {
      "cell_type": "code",
      "metadata": {
        "id": "MKMHr7p651mJ",
        "colab": {
          "base_uri": "https://localhost:8080/"
        },
        "outputId": "fd0d60b8-9961-45ca-9b51-b83338d9014a"
      },
      "source": [
        "a = [1,2,3]\n",
        "b = random.choice(a)\n",
        "print(b)"
      ],
      "execution_count": null,
      "outputs": [
        {
          "output_type": "stream",
          "name": "stdout",
          "text": [
            "1\n"
          ]
        }
      ]
    },
    {
      "cell_type": "markdown",
      "metadata": {
        "id": "PbidqOm3z7sn"
      },
      "source": [
        "* `random.choices` : 주어진 sequence 에서 랜덤으로 k개의 요소를 뽑습니다. 중복이 가능합니다.\n",
        "\n",
        "```\n",
        "a = [1,2,3] # 리스트 a가 주어졌을 때 \n",
        "b = random.choices(a, k=2) # a의 요소 중 k개를 뽑아 b로 바인딩\n",
        "print(b)\n",
        "```\n",
        "\n"
      ]
    },
    {
      "cell_type": "code",
      "metadata": {
        "id": "sgyxjWvLz7sv",
        "colab": {
          "base_uri": "https://localhost:8080/"
        },
        "outputId": "b50f339c-3a87-4614-f527-56976cef6381"
      },
      "source": [
        "a = [1,2,3]\n",
        "b = random.choices(a, k=2)\n",
        "print(b)"
      ],
      "execution_count": null,
      "outputs": [
        {
          "output_type": "stream",
          "name": "stdout",
          "text": [
            "[1, 3]\n"
          ]
        }
      ]
    },
    {
      "cell_type": "markdown",
      "metadata": {
        "id": "A17ZgbqfK3lr"
      },
      "source": [
        "#### **기타**"
      ]
    },
    {
      "cell_type": "markdown",
      "metadata": {
        "id": "9od_vtK84u_4"
      },
      "source": [
        "* `random.shuffle` : 특정 시퀀스를 랜덤하게 섞는 함수입니다.\n",
        "\n",
        "```\n",
        "a = [1,2,3]\n",
        "random.shuffle(a)\n",
        "print(a)\n",
        "```\n",
        "\n"
      ]
    },
    {
      "cell_type": "code",
      "metadata": {
        "id": "_srXvBaG4Xmi",
        "colab": {
          "base_uri": "https://localhost:8080/"
        },
        "outputId": "58648fb3-685e-44c4-d7ab-165ac5aeb5f2"
      },
      "source": [
        "a = [1,2,3]\n",
        "random.shuffle(a)\n",
        "print(a)"
      ],
      "execution_count": null,
      "outputs": [
        {
          "output_type": "stream",
          "name": "stdout",
          "text": [
            "[1, 2, 3]\n"
          ]
        }
      ]
    },
    {
      "cell_type": "markdown",
      "metadata": {
        "id": "qgwblcg16Qb7"
      },
      "source": [
        "# 예제\n",
        "---"
      ]
    },
    {
      "cell_type": "markdown",
      "metadata": {
        "id": "wEh21CAlIF5M"
      },
      "source": [
        "####**예제 01 여러번의 주사위**\n",
        "\n",
        "\n",
        "    - 주사위를 던지면 1에서 6까지 숫자가 랜덤으로 나옵니다.\n",
        "    - 주사위를 사용하고 입력한 만큼 돌리고 각숫자가 몇번씩 나왔는지 알려주는 함수를 작성하세요\n"
      ]
    },
    {
      "cell_type": "code",
      "metadata": {
        "id": "kv4kbTMuAoLN",
        "colab": {
          "base_uri": "https://localhost:8080/"
        },
        "outputId": "9ce5067f-b245-44ac-9a0f-10d7ff1b1b40"
      },
      "source": [
        "import random\n",
        "dice_x=[]\n",
        "def dice(n):\n",
        "    for i in range(n):\n",
        "        dice_x.append(random.randint(1,6))\n",
        "    print(dice_x)\n",
        "    print(\"1의 개수는: \",dice_x.count(1))\n",
        "    print(\"2의 개수는: \",dice_x.count(2))\n",
        "    print(\"3의 개수는: \",dice_x.count(3))\n",
        "    print(\"4의 개수는: \",dice_x.count(4))\n",
        "    print(\"5의 개수는: \",dice_x.count(5))\n",
        "    print(\"6의 개수는: \",dice_x.count(6))\n",
        "dice(60)\n"
      ],
      "execution_count": null,
      "outputs": [
        {
          "output_type": "stream",
          "name": "stdout",
          "text": [
            "[1, 6, 4, 5, 2, 6, 6, 5, 3, 6, 3, 2, 3, 1, 1, 4, 4, 5, 5, 6, 2, 6, 3, 2, 4, 4, 5, 5, 5, 5, 2, 1, 6, 3, 4, 5, 3, 6, 6, 5, 6, 2, 2, 3, 2, 5, 1, 2, 1, 1, 1, 4, 4, 5, 1, 3, 3, 3, 4, 1]\n",
            "1의 개수는:  10\n",
            "2의 개수는:  9\n",
            "3의 개수는:  10\n",
            "4의 개수는:  9\n",
            "5의 개수는:  12\n",
            "6의 개수는:  10\n"
          ]
        }
      ]
    },
    {
      "cell_type": "markdown",
      "metadata": {
        "id": "R_v3MPkG6zci"
      },
      "source": [
        "####**예제 02 업다운게임**\n",
        "\n",
        "    - 1~100까지 값이 랜덤하게 지정됩니다.\n",
        "    - 랜덤값(정답)이 사용자가 찍은 답보다 높으면 UP\n",
        "    - 랜덤값이 낮으면 DOWN\n",
        "    - 랜덤값을 맞추면 \"CORRECT\"를 출력합니다.\n",
        "    - 사용자가 랜덤값을 맞출 때까지 진행됩니다.\n"
      ]
    },
    {
      "cell_type": "code",
      "metadata": {
        "id": "rchkDnZE6y10",
        "colab": {
          "base_uri": "https://localhost:8080/"
        },
        "outputId": "437c1530-9230-47a2-a6c1-91cf2dc3d865"
      },
      "source": [
        "import random\n",
        "b= random.randint(1,100)\n",
        "def correct(n):\n",
        "    while True:\n",
        "        a=int(input(\"1~100까지 아무숫자나 선택하세요.: \"))\n",
        "        print(b)\n",
        "\n",
        "        if b>a:\n",
        "            print(\"UP\")\n",
        "        elif b<a:\n",
        "            print(\"DOWN\")\n",
        "        else:\n",
        "            print(\"CORRECT\")\n",
        "            break\n",
        "\n",
        "correct(60)\n",
        "     \n"
      ],
      "execution_count": null,
      "outputs": [
        {
          "output_type": "stream",
          "name": "stdout",
          "text": [
            "1~100까지 아무숫자나 선택하세요.: 50\n",
            "53\n",
            "UP\n",
            "1~100까지 아무숫자나 선택하세요.: 53\n",
            "53\n",
            "CORRECT\n"
          ]
        }
      ]
    },
    {
      "cell_type": "markdown",
      "metadata": {
        "id": "l3NBAKiG7sD8"
      },
      "source": [
        "####**예제 03 숫자야구**\n",
        "\n",
        "    - 0~9까지 값을 지닌 3자리 숫자가 랜덤하게 지정됩니다.\n",
        "    - 각 자리 숫자는 중복되지 않아야 합니다.\n",
        "    - 맞춰야할 랜덤값 3개중 자리수에 상관없이 맞추면 \"볼\", 자리수까지 맞추면 \"홈런\" 입니다.\n",
        "    - 사용자가 지정된 랜덤값을 맞출 때까지 진행됩니다.\n",
        "\n",
        "\n",
        "\n",
        "* 아래 표는 랜덤값이 123일 때 사용자의 입력과 그에 따른 출력을 나타낸 표입니다. \n",
        "\n",
        "입력|출력\n",
        "---|---\n",
        "123| 3볼 3홈런\n",
        "132| 3볼 1홈런\n",
        "231| 3볼 0홈런 \n",
        "125| 2볼 2홈런\n",
        "\n"
      ]
    },
    {
      "cell_type": "code",
      "source": [
        "import random\n",
        "from random import randint\n",
        "num = [0,1,2,3,4,5,6,7,8,9]\n",
        "correct_num =[str(i) for i in random.sample(num, k=3)]\n",
        "print(''.join(correct_num))\n",
        "\n",
        "a = int(input(\"0부터 9까지의 숫자를 3개 선택하세요.: \"))\n",
        "if correct_num==a:\n",
        "    print(\"Good\")\n",
        "# while True:\n",
        "#     if correct_num==a:\n",
        "#         a = int(input(\"0부터 9까지의 숫자를 3개 선택하세요.: \"))\n",
        "#         print(\"Good\")\n"
      ],
      "metadata": {
        "colab": {
          "base_uri": "https://localhost:8080/"
        },
        "id": "KK-tatb-Gvdo",
        "outputId": "b9d8184c-63cc-4d5a-d5e4-05f4a6ad1339"
      },
      "execution_count": null,
      "outputs": [
        {
          "name": "stdout",
          "output_type": "stream",
          "text": [
            "485\n",
            "0부터 9까지의 숫자를 3개 선택하세요.: 485\n"
          ]
        }
      ]
    },
    {
      "cell_type": "code",
      "source": [
        "import random\n",
        "true =[]\n",
        "while len(set(true))!=3:\n",
        "    true = random.choices([str(i) for i in range(10)], k=3)\n",
        "while True:\n",
        "    homerun, ball = 0,0\n",
        "    answer = input()\n",
        "\n",
        "    if len(answer)!=3:\n",
        "        print(\"세자리 숫자를 다시 입력해 주세요\")\n",
        "        continue\n",
        "    \n",
        "    for t,a in zip(true, answer):\n",
        "        if t==a: homerun+=1\n",
        "        if a in true: ball+=1\n",
        "    print()"
      ],
      "metadata": {
        "id": "crz6VcSCN2DH"
      },
      "execution_count": null,
      "outputs": []
    },
    {
      "cell_type": "code",
      "source": [
        ""
      ],
      "metadata": {
        "id": "b9vmVpF8N2Fv"
      },
      "execution_count": null,
      "outputs": []
    },
    {
      "cell_type": "code",
      "source": [
        ""
      ],
      "metadata": {
        "id": "B9zZVr4CN2IW"
      },
      "execution_count": null,
      "outputs": []
    },
    {
      "cell_type": "code",
      "source": [
        ""
      ],
      "metadata": {
        "id": "TprDH8UHN2Kw"
      },
      "execution_count": null,
      "outputs": []
    },
    {
      "cell_type": "code",
      "source": [
        ""
      ],
      "metadata": {
        "id": "eMNrqw4bN2NT"
      },
      "execution_count": null,
      "outputs": []
    },
    {
      "cell_type": "code",
      "source": [
        ""
      ],
      "metadata": {
        "id": "oNLKfN3DN2QY"
      },
      "execution_count": null,
      "outputs": []
    },
    {
      "cell_type": "code",
      "source": [
        ""
      ],
      "metadata": {
        "id": "prGbLdY3N2St"
      },
      "execution_count": null,
      "outputs": []
    },
    {
      "cell_type": "code",
      "source": [
        ""
      ],
      "metadata": {
        "id": "kHb65SUGN2Vm"
      },
      "execution_count": null,
      "outputs": []
    },
    {
      "cell_type": "code",
      "source": [
        ""
      ],
      "metadata": {
        "id": "F1OQqnSxN2Yu"
      },
      "execution_count": null,
      "outputs": []
    },
    {
      "cell_type": "code",
      "source": [
        ""
      ],
      "metadata": {
        "id": "vo8lOqUzN2bH"
      },
      "execution_count": null,
      "outputs": []
    },
    {
      "cell_type": "code",
      "source": [
        ""
      ],
      "metadata": {
        "id": "5_JyZ7L4N2eL"
      },
      "execution_count": null,
      "outputs": []
    },
    {
      "cell_type": "code",
      "source": [
        "from random import randint\n",
        "\n",
        "\n",
        "def generate_numbers():\n",
        "    numbers = []\n",
        "    i = 0\n",
        "    new_number = 0\n",
        "    while i < 3:\n",
        "        new_number = randint(0, 9)\n",
        "        if new_number not in numbers:\n",
        "            numbers.append(new_number)\n",
        "            i += 1\n",
        "    print(\"0과 9 사이의 서로 다른 숫자 3개를 랜덤한 순서로 뽑았습니다.\\n\")\n",
        "    return numbers\n",
        "\n",
        "\n",
        "def take_guess():\n",
        "    print(\"숫자 3개를 하나씩 차례대로 입력하세요.\")\n",
        "    i = 0\n",
        "    new_guess = []\n",
        "    while i < 3:\n",
        "        gue_number = int(input(\"{}번째 숫자를 입력하세요: \".format(i + 1)))\n",
        "        if gue_number > 9:\n",
        "            print(\"범위를 벗어나는 숫자입니다. 다시 입력하세요.\")\n",
        "            continue\n",
        "        if gue_number in new_guess:\n",
        "            print(\"중복되는 숫자입니다. 다시 입력하세요. \")\n",
        "        else:\n",
        "            new_guess.append(gue_number)\n",
        "            i += 1\n",
        "\n",
        "    return new_guess\n",
        "\n",
        "\n",
        "def get_score(guess, solution):\n",
        "    strike_count = 0\n",
        "    ball_count = 0\n",
        "    i = 0\n",
        "\n",
        "    while i < len(guess):\n",
        "        if guess[i] == solution[i]:\n",
        "            strike_count += 1\n",
        "            i += 1\n",
        "        elif guess[i] in solution:\n",
        "            ball_count += 1\n",
        "            i += 1\n",
        "        else:\n",
        "            i += 1\n",
        "            \n",
        "    return strike_count, ball_count\n",
        "\n",
        "\n",
        "# 여기서부터 게임 시작!\n",
        "ANSWER = generate_numbers()\n",
        "tries = 0\n",
        "\n",
        "while 1:\n",
        "    GUESS = take_guess()\n",
        "    strike, ball = get_sco5re(GUESS, ANSWER)\n",
        "    print(\"{}S {}B \".format(strike, ball))\n",
        "\n",
        "    if strike == 3:\n",
        "        tries += 1\n",
        "        break\n",
        "    else:\n",
        "        tries += 1\n",
        "67\n",
        "print(\"축하합니다. {}번 만에 숫자 3개의 값과 위치를 모두 맞추셨습니다.\".format(tries))"
      ],
      "metadata": {
        "id": "uqfqJpZ-CzVW"
      },
      "execution_count": null,
      "outputs": []
    },
    {
      "cell_type": "code",
      "source": [
        "from random import randint\n",
        "\n",
        "def generate_numbers():\n",
        "    numbers =[]\n",
        "\n",
        "    while len(numbers)<3:\n",
        "        num = randint(0,9)\n",
        "        if num not in numbers():\n",
        "            numbers.append(num)\n",
        "\n",
        "    print(\"0과 9사이의 서로 다른 숫자 3개를 랜덤한 숫자로 뽑았습니다.\\n\")\n",
        "    return numbers\n",
        "\n",
        "def take_guess():\n",
        "    print(\"숫자 3개를 하나씩 차례대로 입력하세요.:\")\n",
        "\n",
        "    new_guess=[]\n",
        "    while len(new_guess) < 3:\n",
        "        new_num = int(input(\"{}번째 숫자를 입력하세요.: \".format(len(new_guess_+1)))\n",
        "        \n",
        "        if new_num < 0 or new_num > 9:\n",
        "            print(\"범위를 벗어나는 숫자입니다. 다시 입력하세요.\")\n",
        "        elif new_num in new_guess:\n",
        "            print(\"중복되는 숫자입니다. 다시 입력하세요.\")\n",
        "        else:\n",
        "            new_guess.append(new_num)\n",
        "    return new_guess"
      ],
      "metadata": {
        "colab": {
          "base_uri": "https://localhost:8080/",
          "height": 136
        },
        "id": "4B0f2k7vAsHd",
        "outputId": "36a30637-4904-4802-dffd-b55b420a828c"
      },
      "execution_count": null,
      "outputs": [
        {
          "output_type": "error",
          "ename": "SyntaxError",
          "evalue": "ignored",
          "traceback": [
            "\u001b[0;36m  File \u001b[0;32m\"<ipython-input-10-489b3b091958>\"\u001b[0;36m, line \u001b[0;32m21\u001b[0m\n\u001b[0;31m    if new_num < 0 or new_num > 9:\u001b[0m\n\u001b[0m                                 ^\u001b[0m\n\u001b[0;31mSyntaxError\u001b[0m\u001b[0;31m:\u001b[0m invalid syntax\n"
          ]
        }
      ]
    },
    {
      "cell_type": "code",
      "metadata": {
        "id": "T6yhNpAT6RsJ",
        "colab": {
          "base_uri": "https://localhost:8080/",
          "height": 248
        },
        "outputId": "5b985070-3c66-4c56-cc79-43bde85e371c"
      },
      "source": [
        "num = [0,1,2,3,4,5,6,7,8,9]\n",
        "# correct_num = int(i) for i in random.choices(num, k=3)\n",
        "correct_num=list(map(random.choices(num,k=3)))\n",
        "print(''.join(correct_num))\n",
        "while True:\n",
        "    a = input(\"0~9 중 중복없이 3자리 수로 꾸미세요.: \")"
      ],
      "execution_count": null,
      "outputs": [
        {
          "output_type": "error",
          "ename": "TypeError",
          "evalue": "ignored",
          "traceback": [
            "\u001b[0;31m---------------------------------------------------------------------------\u001b[0m",
            "\u001b[0;31mTypeError\u001b[0m                                 Traceback (most recent call last)",
            "\u001b[0;32m<ipython-input-58-5e81c3d267c6>\u001b[0m in \u001b[0;36m<module>\u001b[0;34m()\u001b[0m\n\u001b[1;32m      1\u001b[0m \u001b[0mnum\u001b[0m \u001b[0;34m=\u001b[0m \u001b[0;34m[\u001b[0m\u001b[0;36m0\u001b[0m\u001b[0;34m,\u001b[0m\u001b[0;36m1\u001b[0m\u001b[0;34m,\u001b[0m\u001b[0;36m2\u001b[0m\u001b[0;34m,\u001b[0m\u001b[0;36m3\u001b[0m\u001b[0;34m,\u001b[0m\u001b[0;36m4\u001b[0m\u001b[0;34m,\u001b[0m\u001b[0;36m5\u001b[0m\u001b[0;34m,\u001b[0m\u001b[0;36m6\u001b[0m\u001b[0;34m,\u001b[0m\u001b[0;36m7\u001b[0m\u001b[0;34m,\u001b[0m\u001b[0;36m8\u001b[0m\u001b[0;34m,\u001b[0m\u001b[0;36m9\u001b[0m\u001b[0;34m]\u001b[0m\u001b[0;34m\u001b[0m\u001b[0;34m\u001b[0m\u001b[0m\n\u001b[1;32m      2\u001b[0m \u001b[0;31m# correct_num = int(i) for i in random.choices(num, k=3)\u001b[0m\u001b[0;34m\u001b[0m\u001b[0;34m\u001b[0m\u001b[0;34m\u001b[0m\u001b[0m\n\u001b[0;32m----> 3\u001b[0;31m \u001b[0mcorrect_num\u001b[0m\u001b[0;34m=\u001b[0m\u001b[0mlist\u001b[0m\u001b[0;34m(\u001b[0m\u001b[0mmap\u001b[0m\u001b[0;34m(\u001b[0m\u001b[0mrandom\u001b[0m\u001b[0;34m.\u001b[0m\u001b[0mchoices\u001b[0m\u001b[0;34m(\u001b[0m\u001b[0mnum\u001b[0m\u001b[0;34m,\u001b[0m\u001b[0mk\u001b[0m\u001b[0;34m=\u001b[0m\u001b[0;36m3\u001b[0m\u001b[0;34m)\u001b[0m\u001b[0;34m)\u001b[0m\u001b[0;34m)\u001b[0m\u001b[0;34m\u001b[0m\u001b[0;34m\u001b[0m\u001b[0m\n\u001b[0m\u001b[1;32m      4\u001b[0m \u001b[0mprint\u001b[0m\u001b[0;34m(\u001b[0m\u001b[0;34m''\u001b[0m\u001b[0;34m.\u001b[0m\u001b[0mjoin\u001b[0m\u001b[0;34m(\u001b[0m\u001b[0mcorrect_num\u001b[0m\u001b[0;34m)\u001b[0m\u001b[0;34m)\u001b[0m\u001b[0;34m\u001b[0m\u001b[0;34m\u001b[0m\u001b[0m\n\u001b[1;32m      5\u001b[0m \u001b[0;32mwhile\u001b[0m \u001b[0;32mTrue\u001b[0m\u001b[0;34m:\u001b[0m\u001b[0;34m\u001b[0m\u001b[0;34m\u001b[0m\u001b[0m\n",
            "\u001b[0;31mTypeError\u001b[0m: map() must have at least two arguments."
          ]
        }
      ]
    },
    {
      "cell_type": "code",
      "source": [
        "num = [0,1,2,3,4,5,6,7,8,9]\n",
        "correct_num =[str(i) for i in random.sample(num, k=3)]\n",
        "print(''.join(correct_num))"
      ],
      "metadata": {
        "colab": {
          "base_uri": "https://localhost:8080/"
        },
        "id": "9cIqF3AzwzOV",
        "outputId": "410bada3-06e9-4c3a-b9da-d21767621e10"
      },
      "execution_count": null,
      "outputs": [
        {
          "output_type": "stream",
          "name": "stdout",
          "text": [
            "123\n"
          ]
        }
      ]
    },
    {
      "cell_type": "markdown",
      "metadata": {
        "id": "Mal9fB6ZmXXV"
      },
      "source": [
        "####**예제 04 같은 그림 맞추기**\n",
        "\n",
        "    - 숫자가 1부터 16까지 순서대로 나열됩니다. (4x4 크기).\n",
        "    - 숫자 두개를 고르면 고른 숫자카드 두개는 알파벳이 보여집니다. \n",
        "    - 두 알파벳이 동일하면 알파벳이 보여진채로 다음 숫자 두개를 고릅니다.\n",
        "    - 두 알파벳이 다르면 다시 숫자카드가 보인채로 다음 숫자 두개를 고릅니다.\n",
        "    - 알파벳이 모두 보여지면 게임이 끝납니다.\n",
        "\n",
        "* 예시\n",
        "\n",
        "```\n",
        ">> 같은그림 맞추기 시작! \n",
        "\n",
        "| 1| 2| 3| 4|\n",
        "| 5| 6| 7| 8|\n",
        "| 9|10|11|12|\n",
        "|13|14|15|16|\n",
        "\n",
        ">> 숫자1: 5\n",
        ">> 숫자2: 10\n",
        "\n",
        "| 1| 2| 3| 4|\n",
        "| A| 6| 7| 8|\n",
        "| 9| A|11|12|\n",
        "|13|14|15|16|\n",
        "\n",
        "```\n"
      ]
    },
    {
      "cell_type": "code",
      "source": [
        "import random\n",
        "from random import randint\n",
        "\n",
        "num_list = list(range(1,17))\n",
        "alpha_list = ['A','B','C','D','E','F','G','H']\n",
        "random.shuffle(alpha_list)\n",
        "print(alpha_list)\n",
        "\n"
      ],
      "metadata": {
        "colab": {
          "base_uri": "https://localhost:8080/"
        },
        "id": "fpWwC_XG1Iaa",
        "outputId": "5c98b955-ede4-4371-a644-6dbd333f3149"
      },
      "execution_count": null,
      "outputs": [
        {
          "output_type": "stream",
          "name": "stdout",
          "text": [
            "['H', 'C', 'B', 'F', 'G', 'A', 'E', 'D']\n"
          ]
        }
      ]
    },
    {
      "cell_type": "code",
      "source": [
        "import random\n",
        "from random import randint\n",
        "def show_cards(mode='open'):\n",
        "    for i in range(1,17):\n",
        "      s = str(i)\n",
        "      if i<10: s='0'+s\n",
        "      if i%4==0: end=' |\\n' \n",
        "      else: end=''\n",
        "\n",
        "      if mode=='choice':\n",
        "        cond = i in open_list or i==num1 or i==num2\n",
        "      else:\n",
        "        cond = i in open_list\n",
        "      \n",
        "      if cond:\n",
        "        print(\" | %s\"%card_list[i-1], end=end)\n",
        "      else:\n",
        "        print(\" | %s\"%s, end=end)\n",
        "    \n",
        "    print(\"  ===================\")\n",
        "\n",
        "card_list = [\"*A\", \"*B\", \"*C\", \"*D\", \"*E\", \"*F\", \"*G\",\"*H\"]*2\n",
        "random.shuffle(card_list)\n",
        "open_list = []\n",
        "\n",
        "while True:\n",
        "  show_cards()\n",
        "  num1 = int(input())\n",
        "  num2 = int(input())\n",
        "  if num1==num2 or (num1 in open_list) or (num2 in open_list) or num1>16 or num2>16 or num1<1 or num2<1: \n",
        "    print(\"숫자범위를 확인하세요\")\n",
        "    continue\n",
        "  \n",
        "  show_cards(mode='choice')\n",
        "  if card_list[num1-1]==card_list[num2-1]:\n",
        "    open_list.append(num1)\n",
        "    open_list.append(num2)\n",
        "  if len(open_list)==16: \n",
        "    print(\"축하합니다!\")\n",
        "    break"
      ],
      "metadata": {
        "id": "X2p19J23nnyf",
        "colab": {
          "base_uri": "https://localhost:8080/",
          "height": 565
        },
        "outputId": "418910f1-d837-44aa-a464-ab362bc7e8c8"
      },
      "execution_count": null,
      "outputs": [
        {
          "output_type": "error",
          "ename": "KeyboardInterrupt",
          "evalue": "ignored",
          "traceback": [
            "\u001b[0;31m---------------------------------------------------------------------------\u001b[0m",
            "\u001b[0;31mKeyboardInterrupt\u001b[0m                         Traceback (most recent call last)",
            "\u001b[0;32m/usr/local/lib/python3.7/dist-packages/ipykernel/kernelbase.py\u001b[0m in \u001b[0;36m_input_request\u001b[0;34m(self, prompt, ident, parent, password)\u001b[0m\n\u001b[1;32m    728\u001b[0m             \u001b[0;32mtry\u001b[0m\u001b[0;34m:\u001b[0m\u001b[0;34m\u001b[0m\u001b[0;34m\u001b[0m\u001b[0m\n\u001b[0;32m--> 729\u001b[0;31m                 \u001b[0mident\u001b[0m\u001b[0;34m,\u001b[0m \u001b[0mreply\u001b[0m \u001b[0;34m=\u001b[0m \u001b[0mself\u001b[0m\u001b[0;34m.\u001b[0m\u001b[0msession\u001b[0m\u001b[0;34m.\u001b[0m\u001b[0mrecv\u001b[0m\u001b[0;34m(\u001b[0m\u001b[0mself\u001b[0m\u001b[0;34m.\u001b[0m\u001b[0mstdin_socket\u001b[0m\u001b[0;34m,\u001b[0m \u001b[0;36m0\u001b[0m\u001b[0;34m)\u001b[0m\u001b[0;34m\u001b[0m\u001b[0;34m\u001b[0m\u001b[0m\n\u001b[0m\u001b[1;32m    730\u001b[0m             \u001b[0;32mexcept\u001b[0m \u001b[0mException\u001b[0m\u001b[0;34m:\u001b[0m\u001b[0;34m\u001b[0m\u001b[0;34m\u001b[0m\u001b[0m\n",
            "\u001b[0;32m/usr/local/lib/python3.7/dist-packages/jupyter_client/session.py\u001b[0m in \u001b[0;36mrecv\u001b[0;34m(self, socket, mode, content, copy)\u001b[0m\n\u001b[1;32m    802\u001b[0m         \u001b[0;32mtry\u001b[0m\u001b[0;34m:\u001b[0m\u001b[0;34m\u001b[0m\u001b[0;34m\u001b[0m\u001b[0m\n\u001b[0;32m--> 803\u001b[0;31m             \u001b[0mmsg_list\u001b[0m \u001b[0;34m=\u001b[0m \u001b[0msocket\u001b[0m\u001b[0;34m.\u001b[0m\u001b[0mrecv_multipart\u001b[0m\u001b[0;34m(\u001b[0m\u001b[0mmode\u001b[0m\u001b[0;34m,\u001b[0m \u001b[0mcopy\u001b[0m\u001b[0;34m=\u001b[0m\u001b[0mcopy\u001b[0m\u001b[0;34m)\u001b[0m\u001b[0;34m\u001b[0m\u001b[0;34m\u001b[0m\u001b[0m\n\u001b[0m\u001b[1;32m    804\u001b[0m         \u001b[0;32mexcept\u001b[0m \u001b[0mzmq\u001b[0m\u001b[0;34m.\u001b[0m\u001b[0mZMQError\u001b[0m \u001b[0;32mas\u001b[0m \u001b[0me\u001b[0m\u001b[0;34m:\u001b[0m\u001b[0;34m\u001b[0m\u001b[0;34m\u001b[0m\u001b[0m\n",
            "\u001b[0;32m/usr/local/lib/python3.7/dist-packages/zmq/sugar/socket.py\u001b[0m in \u001b[0;36mrecv_multipart\u001b[0;34m(self, flags, copy, track)\u001b[0m\n\u001b[1;32m    624\u001b[0m         \"\"\"\n\u001b[0;32m--> 625\u001b[0;31m         \u001b[0mparts\u001b[0m \u001b[0;34m=\u001b[0m \u001b[0;34m[\u001b[0m\u001b[0mself\u001b[0m\u001b[0;34m.\u001b[0m\u001b[0mrecv\u001b[0m\u001b[0;34m(\u001b[0m\u001b[0mflags\u001b[0m\u001b[0;34m,\u001b[0m \u001b[0mcopy\u001b[0m\u001b[0;34m=\u001b[0m\u001b[0mcopy\u001b[0m\u001b[0;34m,\u001b[0m \u001b[0mtrack\u001b[0m\u001b[0;34m=\u001b[0m\u001b[0mtrack\u001b[0m\u001b[0;34m)\u001b[0m\u001b[0;34m]\u001b[0m\u001b[0;34m\u001b[0m\u001b[0;34m\u001b[0m\u001b[0m\n\u001b[0m\u001b[1;32m    626\u001b[0m         \u001b[0;31m# have first part already, only loop while more to receive\u001b[0m\u001b[0;34m\u001b[0m\u001b[0;34m\u001b[0m\u001b[0;34m\u001b[0m\u001b[0m\n",
            "\u001b[0;32mzmq/backend/cython/socket.pyx\u001b[0m in \u001b[0;36mzmq.backend.cython.socket.Socket.recv\u001b[0;34m()\u001b[0m\n",
            "\u001b[0;32mzmq/backend/cython/socket.pyx\u001b[0m in \u001b[0;36mzmq.backend.cython.socket.Socket.recv\u001b[0;34m()\u001b[0m\n",
            "\u001b[0;32mzmq/backend/cython/socket.pyx\u001b[0m in \u001b[0;36mzmq.backend.cython.socket._recv_copy\u001b[0;34m()\u001b[0m\n",
            "\u001b[0;32m/usr/local/lib/python3.7/dist-packages/zmq/backend/cython/checkrc.pxd\u001b[0m in \u001b[0;36mzmq.backend.cython.checkrc._check_rc\u001b[0;34m()\u001b[0m\n",
            "\u001b[0;31mKeyboardInterrupt\u001b[0m: ",
            "\nDuring handling of the above exception, another exception occurred:\n",
            "\u001b[0;31mKeyboardInterrupt\u001b[0m                         Traceback (most recent call last)",
            "\u001b[0;32m<ipython-input-57-9de1f9d4df3a>\u001b[0m in \u001b[0;36m<module>\u001b[0;34m()\u001b[0m\n\u001b[1;32m     26\u001b[0m \u001b[0;32mwhile\u001b[0m \u001b[0;32mTrue\u001b[0m\u001b[0;34m:\u001b[0m\u001b[0;34m\u001b[0m\u001b[0;34m\u001b[0m\u001b[0m\n\u001b[1;32m     27\u001b[0m   \u001b[0mshow_cards\u001b[0m\u001b[0;34m(\u001b[0m\u001b[0;34m)\u001b[0m\u001b[0;34m\u001b[0m\u001b[0;34m\u001b[0m\u001b[0m\n\u001b[0;32m---> 28\u001b[0;31m   \u001b[0mnum1\u001b[0m \u001b[0;34m=\u001b[0m \u001b[0mint\u001b[0m\u001b[0;34m(\u001b[0m\u001b[0minput\u001b[0m\u001b[0;34m(\u001b[0m\u001b[0;34m)\u001b[0m\u001b[0;34m)\u001b[0m\u001b[0;34m\u001b[0m\u001b[0;34m\u001b[0m\u001b[0m\n\u001b[0m\u001b[1;32m     29\u001b[0m   \u001b[0mnum2\u001b[0m \u001b[0;34m=\u001b[0m \u001b[0mint\u001b[0m\u001b[0;34m(\u001b[0m\u001b[0minput\u001b[0m\u001b[0;34m(\u001b[0m\u001b[0;34m)\u001b[0m\u001b[0;34m)\u001b[0m\u001b[0;34m\u001b[0m\u001b[0;34m\u001b[0m\u001b[0m\n\u001b[1;32m     30\u001b[0m   \u001b[0;32mif\u001b[0m \u001b[0mnum1\u001b[0m\u001b[0;34m==\u001b[0m\u001b[0mnum2\u001b[0m \u001b[0;32mor\u001b[0m \u001b[0;34m(\u001b[0m\u001b[0mnum1\u001b[0m \u001b[0;32min\u001b[0m \u001b[0mopen_list\u001b[0m\u001b[0;34m)\u001b[0m \u001b[0;32mor\u001b[0m \u001b[0;34m(\u001b[0m\u001b[0mnum2\u001b[0m \u001b[0;32min\u001b[0m \u001b[0mopen_list\u001b[0m\u001b[0;34m)\u001b[0m \u001b[0;32mor\u001b[0m \u001b[0mnum1\u001b[0m\u001b[0;34m>\u001b[0m\u001b[0;36m16\u001b[0m \u001b[0;32mor\u001b[0m \u001b[0mnum2\u001b[0m\u001b[0;34m>\u001b[0m\u001b[0;36m16\u001b[0m \u001b[0;32mor\u001b[0m \u001b[0mnum1\u001b[0m\u001b[0;34m<\u001b[0m\u001b[0;36m1\u001b[0m \u001b[0;32mor\u001b[0m \u001b[0mnum2\u001b[0m\u001b[0;34m<\u001b[0m\u001b[0;36m1\u001b[0m\u001b[0;34m:\u001b[0m\u001b[0;34m\u001b[0m\u001b[0;34m\u001b[0m\u001b[0m\n",
            "\u001b[0;32m/usr/local/lib/python3.7/dist-packages/ipykernel/kernelbase.py\u001b[0m in \u001b[0;36mraw_input\u001b[0;34m(self, prompt)\u001b[0m\n\u001b[1;32m    702\u001b[0m             \u001b[0mself\u001b[0m\u001b[0;34m.\u001b[0m\u001b[0m_parent_ident\u001b[0m\u001b[0;34m,\u001b[0m\u001b[0;34m\u001b[0m\u001b[0;34m\u001b[0m\u001b[0m\n\u001b[1;32m    703\u001b[0m             \u001b[0mself\u001b[0m\u001b[0;34m.\u001b[0m\u001b[0m_parent_header\u001b[0m\u001b[0;34m,\u001b[0m\u001b[0;34m\u001b[0m\u001b[0;34m\u001b[0m\u001b[0m\n\u001b[0;32m--> 704\u001b[0;31m             \u001b[0mpassword\u001b[0m\u001b[0;34m=\u001b[0m\u001b[0;32mFalse\u001b[0m\u001b[0;34m,\u001b[0m\u001b[0;34m\u001b[0m\u001b[0;34m\u001b[0m\u001b[0m\n\u001b[0m\u001b[1;32m    705\u001b[0m         )\n\u001b[1;32m    706\u001b[0m \u001b[0;34m\u001b[0m\u001b[0m\n",
            "\u001b[0;32m/usr/local/lib/python3.7/dist-packages/ipykernel/kernelbase.py\u001b[0m in \u001b[0;36m_input_request\u001b[0;34m(self, prompt, ident, parent, password)\u001b[0m\n\u001b[1;32m    732\u001b[0m             \u001b[0;32mexcept\u001b[0m \u001b[0mKeyboardInterrupt\u001b[0m\u001b[0;34m:\u001b[0m\u001b[0;34m\u001b[0m\u001b[0;34m\u001b[0m\u001b[0m\n\u001b[1;32m    733\u001b[0m                 \u001b[0;31m# re-raise KeyboardInterrupt, to truncate traceback\u001b[0m\u001b[0;34m\u001b[0m\u001b[0;34m\u001b[0m\u001b[0;34m\u001b[0m\u001b[0m\n\u001b[0;32m--> 734\u001b[0;31m                 \u001b[0;32mraise\u001b[0m \u001b[0mKeyboardInterrupt\u001b[0m\u001b[0;34m\u001b[0m\u001b[0;34m\u001b[0m\u001b[0m\n\u001b[0m\u001b[1;32m    735\u001b[0m             \u001b[0;32melse\u001b[0m\u001b[0;34m:\u001b[0m\u001b[0;34m\u001b[0m\u001b[0;34m\u001b[0m\u001b[0m\n\u001b[1;32m    736\u001b[0m                 \u001b[0;32mbreak\u001b[0m\u001b[0;34m\u001b[0m\u001b[0;34m\u001b[0m\u001b[0m\n",
            "\u001b[0;31mKeyboardInterrupt\u001b[0m: "
          ]
        }
      ]
    },
    {
      "cell_type": "code",
      "source": [
        "alpha_list = ['A','B','C','D','E','F','G','H'] * 2\n",
        "print(alpha_list)"
      ],
      "metadata": {
        "colab": {
          "base_uri": "https://localhost:8080/"
        },
        "id": "QOCu7UZD0xqL",
        "outputId": "b5312e3b-4ecf-4e51-a8f5-b8acd68c9cf0"
      },
      "execution_count": null,
      "outputs": [
        {
          "output_type": "stream",
          "name": "stdout",
          "text": [
            "['A', 'B', 'C', 'D', 'E', 'F', 'G', 'H', 'A', 'B', 'C', 'D', 'E', 'F', 'G', 'H']\n"
          ]
        }
      ]
    },
    {
      "cell_type": "markdown",
      "source": [
        "####**예제 04 같은 그림 맞추기**\n",
        "\n",
        "    - 숫자가 1부터 16까지 순서대로 나열됩니다. (4x4 크기).\n",
        "    - 숫자 두개를 고르면 고른 숫자카드 두개는 알파벳이 보여집니다. \n",
        "    - 두 알파벳이 동일하면 알파벳이 보여진채로 다음 숫자 두개를 고릅니다.\n",
        "    - 두 알파벳이 다르면 다시 숫자카드가 보인채로 다음 숫자 두개를 고릅니다.\n",
        "    - 알파벳이 모두 보여지면 게임이 끝납니다.\n",
        "\n",
        "* 예시\n",
        "\n",
        "```\n",
        ">> 같은그림 맞추기 시작! \n",
        "\n",
        "| 1| 2| 3| 4|\n",
        "| 5| 6| 7| 8|\n",
        "| 9|10|11|12|\n",
        "|13|14|15|16|\n",
        "\n",
        ">> 숫자1: 5\n",
        ">> 숫자2: 10\n",
        "\n",
        "| 1| 2| 3| 4|\n",
        "| A| 6| 7| 8|\n",
        "| 9| A|11|12|\n",
        "|13|14|15|16|\n"
      ],
      "metadata": {
        "id": "u4GOIq9vafXp"
      }
    },
    {
      "cell_type": "code",
      "source": [
        "num = list(range(1,17))\n",
        "for i in range(0,4):\n",
        "    print(\"|\", end=\"\")\n",
        "    for j in range(0,4):\n",
        "        print(f'{num[4*i+j]:>2}',end=\"|\")\n",
        "    print()\n",
        "\n",
        "while True:\n",
        "    \n"
      ],
      "metadata": {
        "id": "9Gu8mdEbBQlH",
        "outputId": "2a165f54-c3fe-4e97-c8c9-b6dfa1c34db9",
        "colab": {
          "base_uri": "https://localhost:8080/"
        }
      },
      "execution_count": null,
      "outputs": [
        {
          "output_type": "stream",
          "name": "stdout",
          "text": [
            "| 1| 2| 3| 4|\n",
            "| 5| 6| 7| 8|\n",
            "| 9|10|11|12|\n",
            "|13|14|15|16|\n"
          ]
        }
      ]
    },
    {
      "cell_type": "code",
      "source": [
        "import random, time\n",
        "\n",
        "def show_cards():\n",
        "    for i in card_dict:\n",
        "        if i in selected:\n",
        "            card = card_dict[i][1]\n",
        "        else:\n",
        "            card = card_dict[i][0]\n",
        "        print(card, end='|')\n",
        "        if i % 4 == 0: print()\n",
        "\n",
        "\n",
        "card_back = [\"*A\", \"*B\", \"*C\", \"*D\", \"*E\", \"*F\", \"*G\", \"*H\"] * 2\n",
        "selected = {}\n",
        "random.shuffle(card_back)\n",
        "card_dict = {i + 1: ['{:02d}'.format(i + 1), card_back[i]] for i in range(16)}\n",
        "print(card_dict)\n",
        "\n",
        "\n",
        "while len(selected) != 16:\n",
        "    print(\"\\n\\n\")\n",
        "    show_cards()\n",
        "\n",
        "    s1 = int(input(\"Select 1st card:\"))\n",
        "    selected[s1] = card_dict[s1][1]\n",
        "    show_cards()\n",
        "\n",
        "    while True:\n",
        "        s2 = int(input(\"Select 2nd card:\"))\n",
        "        if s1 == s2:\n",
        "            continue\n",
        "        else:\n",
        "            break\n",
        "\n",
        "    selected[s2] = card_dict[s2][1]\n",
        "    show_cards()\n",
        "    print(selected)\n",
        "\n",
        "    if card_dict[s1][1] == card_dict[s2][1]:\n",
        "        print(\"******Correct!******\")\n",
        "    else:\n",
        "        del selected[s1]\n",
        "        del selected[s2]\n",
        "        print(\"****Not matched!****\")\n",
        "    time.sleep(3)"
      ],
      "metadata": {
        "id": "15PfOaA1l7mM"
      },
      "execution_count": null,
      "outputs": []
    }
  ]
}